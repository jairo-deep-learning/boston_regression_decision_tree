{
  "nbformat": 4,
  "nbformat_minor": 0,
  "metadata": {
    "kernelspec": {
      "display_name": "Python 3",
      "language": "python",
      "name": "python3"
    },
    "language_info": {
      "codemirror_mode": {
        "name": "ipython",
        "version": 3
      },
      "file_extension": ".py",
      "mimetype": "text/x-python",
      "name": "python",
      "nbconvert_exporter": "python",
      "pygments_lexer": "ipython3",
      "version": "3.6.9"
    },
    "colab": {
      "name": "Regression_decision_tree.ipynb",
      "provenance": [],
      "toc_visible": true
    }
  },
  "cells": [
    {
      "cell_type": "markdown",
      "metadata": {
        "id": "rKCIMQI-XFM8"
      },
      "source": [
        "# Boston Dataset\n",
        "This dataset contains information collected by the U.S Census Service concerning housing in the area of Boston Mass. It was obtained from the StatLib archive (http://lib.stat.cmu.edu/datasets/boston), and has been used extensively throughout the literature to benchmark algorithms.\n",
        "\n",
        "There are 14 attributes in each case of the dataset. They are:\n",
        "* CRIM - per capita crime rate by town\n",
        "* ZN - proportion of residential land zoned for lots over 25,000 sq.ft.\n",
        "* INDUS - proportion of non-retail business acres per town.\n",
        "* CHAS - Charles River dummy variable (1 if tract bounds river; 0 otherwise)\n",
        "* NOX - nitric oxides concentration (parts per 10 million)\n",
        "* RM - average number of rooms per dwelling\n",
        "* AGE - proportion of owner-occupied units built prior to 1940\n",
        "* DIS - weighted distances to five Boston employment centres\n",
        "* RAD - index of accessibility to radial highways\n",
        "* TAX - full-value property-tax rate per USD 10.000\n",
        "* PTRATIO - pupil-teacher ratio by town\n",
        "* B - 1000(Bk - 0.63)^2 where Bk is the proportion of blacks by town\n",
        "* LSTAT - % lower status of the population\n",
        "* MEDV - Median value of owner-occupied homes in $1000's\n",
        "\n",
        "The objective is to create a tool to estimate MEDV of a house"
      ]
    },
    {
      "cell_type": "code",
      "metadata": {
        "collapsed": true,
        "id": "k4h3YklJW62C"
      },
      "source": [
        "import pandas as pd\n",
        "import numpy as np\n",
        "from pandas.plotting import table\n",
        "import matplotlib.pyplot as plt"
      ],
      "execution_count": 71,
      "outputs": []
    },
    {
      "cell_type": "code",
      "metadata": {
        "colab": {
          "base_uri": "https://localhost:8080/",
          "height": 204
        },
        "id": "aiVk3rIJW62D",
        "outputId": "bba79b89-66d3-4361-93d0-e8096ebf4401"
      },
      "source": [
        "data = pd.read_csv(\"Boston.csv\")\n",
        "data.head()"
      ],
      "execution_count": 72,
      "outputs": [
        {
          "output_type": "execute_result",
          "data": {
            "text/html": [
              "<div>\n",
              "<style scoped>\n",
              "    .dataframe tbody tr th:only-of-type {\n",
              "        vertical-align: middle;\n",
              "    }\n",
              "\n",
              "    .dataframe tbody tr th {\n",
              "        vertical-align: top;\n",
              "    }\n",
              "\n",
              "    .dataframe thead th {\n",
              "        text-align: right;\n",
              "    }\n",
              "</style>\n",
              "<table border=\"1\" class=\"dataframe\">\n",
              "  <thead>\n",
              "    <tr style=\"text-align: right;\">\n",
              "      <th></th>\n",
              "      <th>crim</th>\n",
              "      <th>zn</th>\n",
              "      <th>indus</th>\n",
              "      <th>chas</th>\n",
              "      <th>nox</th>\n",
              "      <th>rm</th>\n",
              "      <th>age</th>\n",
              "      <th>dis</th>\n",
              "      <th>rad</th>\n",
              "      <th>tax</th>\n",
              "      <th>ptratio</th>\n",
              "      <th>black</th>\n",
              "      <th>lstat</th>\n",
              "      <th>medv</th>\n",
              "    </tr>\n",
              "  </thead>\n",
              "  <tbody>\n",
              "    <tr>\n",
              "      <th>0</th>\n",
              "      <td>0.00632</td>\n",
              "      <td>18.0</td>\n",
              "      <td>2.31</td>\n",
              "      <td>0</td>\n",
              "      <td>0.538</td>\n",
              "      <td>6.575</td>\n",
              "      <td>65.2</td>\n",
              "      <td>4.0900</td>\n",
              "      <td>1</td>\n",
              "      <td>296</td>\n",
              "      <td>15.3</td>\n",
              "      <td>396.90</td>\n",
              "      <td>4.98</td>\n",
              "      <td>24.0</td>\n",
              "    </tr>\n",
              "    <tr>\n",
              "      <th>1</th>\n",
              "      <td>0.02731</td>\n",
              "      <td>0.0</td>\n",
              "      <td>7.07</td>\n",
              "      <td>0</td>\n",
              "      <td>0.469</td>\n",
              "      <td>6.421</td>\n",
              "      <td>78.9</td>\n",
              "      <td>4.9671</td>\n",
              "      <td>2</td>\n",
              "      <td>242</td>\n",
              "      <td>17.8</td>\n",
              "      <td>396.90</td>\n",
              "      <td>9.14</td>\n",
              "      <td>21.6</td>\n",
              "    </tr>\n",
              "    <tr>\n",
              "      <th>2</th>\n",
              "      <td>0.02729</td>\n",
              "      <td>0.0</td>\n",
              "      <td>7.07</td>\n",
              "      <td>0</td>\n",
              "      <td>0.469</td>\n",
              "      <td>7.185</td>\n",
              "      <td>61.1</td>\n",
              "      <td>4.9671</td>\n",
              "      <td>2</td>\n",
              "      <td>242</td>\n",
              "      <td>17.8</td>\n",
              "      <td>392.83</td>\n",
              "      <td>4.03</td>\n",
              "      <td>34.7</td>\n",
              "    </tr>\n",
              "    <tr>\n",
              "      <th>3</th>\n",
              "      <td>0.03237</td>\n",
              "      <td>0.0</td>\n",
              "      <td>2.18</td>\n",
              "      <td>0</td>\n",
              "      <td>0.458</td>\n",
              "      <td>6.998</td>\n",
              "      <td>45.8</td>\n",
              "      <td>6.0622</td>\n",
              "      <td>3</td>\n",
              "      <td>222</td>\n",
              "      <td>18.7</td>\n",
              "      <td>394.63</td>\n",
              "      <td>2.94</td>\n",
              "      <td>33.4</td>\n",
              "    </tr>\n",
              "    <tr>\n",
              "      <th>4</th>\n",
              "      <td>0.06905</td>\n",
              "      <td>0.0</td>\n",
              "      <td>2.18</td>\n",
              "      <td>0</td>\n",
              "      <td>0.458</td>\n",
              "      <td>7.147</td>\n",
              "      <td>54.2</td>\n",
              "      <td>6.0622</td>\n",
              "      <td>3</td>\n",
              "      <td>222</td>\n",
              "      <td>18.7</td>\n",
              "      <td>396.90</td>\n",
              "      <td>5.33</td>\n",
              "      <td>36.2</td>\n",
              "    </tr>\n",
              "  </tbody>\n",
              "</table>\n",
              "</div>"
            ],
            "text/plain": [
              "      crim    zn  indus  chas    nox  ...  tax  ptratio   black  lstat  medv\n",
              "0  0.00632  18.0   2.31     0  0.538  ...  296     15.3  396.90   4.98  24.0\n",
              "1  0.02731   0.0   7.07     0  0.469  ...  242     17.8  396.90   9.14  21.6\n",
              "2  0.02729   0.0   7.07     0  0.469  ...  242     17.8  392.83   4.03  34.7\n",
              "3  0.03237   0.0   2.18     0  0.458  ...  222     18.7  394.63   2.94  33.4\n",
              "4  0.06905   0.0   2.18     0  0.458  ...  222     18.7  396.90   5.33  36.2\n",
              "\n",
              "[5 rows x 14 columns]"
            ]
          },
          "metadata": {
            "tags": []
          },
          "execution_count": 72
        }
      ]
    },
    {
      "cell_type": "code",
      "metadata": {
        "colab": {
          "base_uri": "https://localhost:8080/"
        },
        "id": "BHAr-6ZFmL_P",
        "outputId": "7d119881-5fe3-4827-b548-cf8705428a46"
      },
      "source": [
        "data.shape"
      ],
      "execution_count": 98,
      "outputs": [
        {
          "output_type": "execute_result",
          "data": {
            "text/plain": [
              "(506, 16)"
            ]
          },
          "metadata": {
            "tags": []
          },
          "execution_count": 98
        }
      ]
    },
    {
      "cell_type": "code",
      "metadata": {
        "id": "kdxq5yEIYrLO"
      },
      "source": [
        "def data_cleaning(data):\n",
        "  unique_values = []\n",
        "  na_values = []\n",
        "  null_values = []\n",
        "  columns = []\n",
        "\n",
        "  for column in data.columns.values:\n",
        "    unique_values.append(len(np.unique(data[column])))\n",
        "    na_values.append(list(data[column].isna()).count(True))\n",
        "    null_values.append(list(data[column].isnull()).count(True))\n",
        "    columns.append(column)\n",
        "\n",
        "  data_validated = pd.DataFrame(index=columns) \n",
        "  data_validated[\"unique_values\"] = list(unique_values)\n",
        "  data_validated[\"na_values\"] = list(na_values)\n",
        "  data_validated[\"null_values\"] = list(null_values)\n",
        "  return data_validated"
      ],
      "execution_count": 73,
      "outputs": []
    },
    {
      "cell_type": "code",
      "metadata": {
        "colab": {
          "base_uri": "https://localhost:8080/",
          "height": 483
        },
        "id": "HpRvdVA_YsXc",
        "outputId": "d2f19f8c-e452-4a47-8160-e86480776832"
      },
      "source": [
        "data_cleaning(data)"
      ],
      "execution_count": 74,
      "outputs": [
        {
          "output_type": "execute_result",
          "data": {
            "text/html": [
              "<div>\n",
              "<style scoped>\n",
              "    .dataframe tbody tr th:only-of-type {\n",
              "        vertical-align: middle;\n",
              "    }\n",
              "\n",
              "    .dataframe tbody tr th {\n",
              "        vertical-align: top;\n",
              "    }\n",
              "\n",
              "    .dataframe thead th {\n",
              "        text-align: right;\n",
              "    }\n",
              "</style>\n",
              "<table border=\"1\" class=\"dataframe\">\n",
              "  <thead>\n",
              "    <tr style=\"text-align: right;\">\n",
              "      <th></th>\n",
              "      <th>unique_values</th>\n",
              "      <th>na_values</th>\n",
              "      <th>null_values</th>\n",
              "    </tr>\n",
              "  </thead>\n",
              "  <tbody>\n",
              "    <tr>\n",
              "      <th>crim</th>\n",
              "      <td>504</td>\n",
              "      <td>0</td>\n",
              "      <td>0</td>\n",
              "    </tr>\n",
              "    <tr>\n",
              "      <th>zn</th>\n",
              "      <td>26</td>\n",
              "      <td>0</td>\n",
              "      <td>0</td>\n",
              "    </tr>\n",
              "    <tr>\n",
              "      <th>indus</th>\n",
              "      <td>76</td>\n",
              "      <td>0</td>\n",
              "      <td>0</td>\n",
              "    </tr>\n",
              "    <tr>\n",
              "      <th>chas</th>\n",
              "      <td>2</td>\n",
              "      <td>0</td>\n",
              "      <td>0</td>\n",
              "    </tr>\n",
              "    <tr>\n",
              "      <th>nox</th>\n",
              "      <td>81</td>\n",
              "      <td>0</td>\n",
              "      <td>0</td>\n",
              "    </tr>\n",
              "    <tr>\n",
              "      <th>rm</th>\n",
              "      <td>446</td>\n",
              "      <td>0</td>\n",
              "      <td>0</td>\n",
              "    </tr>\n",
              "    <tr>\n",
              "      <th>age</th>\n",
              "      <td>356</td>\n",
              "      <td>0</td>\n",
              "      <td>0</td>\n",
              "    </tr>\n",
              "    <tr>\n",
              "      <th>dis</th>\n",
              "      <td>412</td>\n",
              "      <td>0</td>\n",
              "      <td>0</td>\n",
              "    </tr>\n",
              "    <tr>\n",
              "      <th>rad</th>\n",
              "      <td>9</td>\n",
              "      <td>0</td>\n",
              "      <td>0</td>\n",
              "    </tr>\n",
              "    <tr>\n",
              "      <th>tax</th>\n",
              "      <td>66</td>\n",
              "      <td>0</td>\n",
              "      <td>0</td>\n",
              "    </tr>\n",
              "    <tr>\n",
              "      <th>ptratio</th>\n",
              "      <td>46</td>\n",
              "      <td>0</td>\n",
              "      <td>0</td>\n",
              "    </tr>\n",
              "    <tr>\n",
              "      <th>black</th>\n",
              "      <td>357</td>\n",
              "      <td>0</td>\n",
              "      <td>0</td>\n",
              "    </tr>\n",
              "    <tr>\n",
              "      <th>lstat</th>\n",
              "      <td>455</td>\n",
              "      <td>0</td>\n",
              "      <td>0</td>\n",
              "    </tr>\n",
              "    <tr>\n",
              "      <th>medv</th>\n",
              "      <td>229</td>\n",
              "      <td>0</td>\n",
              "      <td>0</td>\n",
              "    </tr>\n",
              "  </tbody>\n",
              "</table>\n",
              "</div>"
            ],
            "text/plain": [
              "         unique_values  na_values  null_values\n",
              "crim               504          0            0\n",
              "zn                  26          0            0\n",
              "indus               76          0            0\n",
              "chas                 2          0            0\n",
              "nox                 81          0            0\n",
              "rm                 446          0            0\n",
              "age                356          0            0\n",
              "dis                412          0            0\n",
              "rad                  9          0            0\n",
              "tax                 66          0            0\n",
              "ptratio             46          0            0\n",
              "black              357          0            0\n",
              "lstat              455          0            0\n",
              "medv               229          0            0"
            ]
          },
          "metadata": {
            "tags": []
          },
          "execution_count": 74
        }
      ]
    },
    {
      "cell_type": "code",
      "metadata": {
        "colab": {
          "base_uri": "https://localhost:8080/"
        },
        "id": "-lq3kJixY5xz",
        "outputId": "e0a2a7d7-8d55-4ec0-e333-ce8a8b905218"
      },
      "source": [
        "np.unique(data[\"rad\"])"
      ],
      "execution_count": 75,
      "outputs": [
        {
          "output_type": "execute_result",
          "data": {
            "text/plain": [
              "array([ 1,  2,  3,  4,  5,  6,  7,  8, 24])"
            ]
          },
          "metadata": {
            "tags": []
          },
          "execution_count": 75
        }
      ]
    },
    {
      "cell_type": "code",
      "metadata": {
        "colab": {
          "base_uri": "https://localhost:8080/",
          "height": 35
        },
        "id": "kmMXmYwZW62E",
        "outputId": "bb080625-4944-41b5-b89e-ec18a76947a1"
      },
      "source": [
        "colnames = data.columns.values.tolist()\n",
        "predictors = colnames[:13]\n",
        "target = colnames[13]\n",
        "target"
      ],
      "execution_count": 76,
      "outputs": [
        {
          "output_type": "execute_result",
          "data": {
            "application/vnd.google.colaboratory.intrinsic+json": {
              "type": "string"
            },
            "text/plain": [
              "'medv'"
            ]
          },
          "metadata": {
            "tags": []
          },
          "execution_count": 76
        }
      ]
    },
    {
      "cell_type": "code",
      "metadata": {
        "collapsed": true,
        "id": "mJU_gIOYW62E"
      },
      "source": [
        "X = data[predictors]\n",
        "Y = data[target]"
      ],
      "execution_count": 77,
      "outputs": []
    },
    {
      "cell_type": "code",
      "metadata": {
        "colab": {
          "base_uri": "https://localhost:8080/",
          "height": 204
        },
        "id": "bczgcUK7W62F",
        "outputId": "aa2b0983-05d4-4e92-8b97-9c693cac0fd1"
      },
      "source": [
        "X.head()"
      ],
      "execution_count": 78,
      "outputs": [
        {
          "output_type": "execute_result",
          "data": {
            "text/html": [
              "<div>\n",
              "<style scoped>\n",
              "    .dataframe tbody tr th:only-of-type {\n",
              "        vertical-align: middle;\n",
              "    }\n",
              "\n",
              "    .dataframe tbody tr th {\n",
              "        vertical-align: top;\n",
              "    }\n",
              "\n",
              "    .dataframe thead th {\n",
              "        text-align: right;\n",
              "    }\n",
              "</style>\n",
              "<table border=\"1\" class=\"dataframe\">\n",
              "  <thead>\n",
              "    <tr style=\"text-align: right;\">\n",
              "      <th></th>\n",
              "      <th>crim</th>\n",
              "      <th>zn</th>\n",
              "      <th>indus</th>\n",
              "      <th>chas</th>\n",
              "      <th>nox</th>\n",
              "      <th>rm</th>\n",
              "      <th>age</th>\n",
              "      <th>dis</th>\n",
              "      <th>rad</th>\n",
              "      <th>tax</th>\n",
              "      <th>ptratio</th>\n",
              "      <th>black</th>\n",
              "      <th>lstat</th>\n",
              "    </tr>\n",
              "  </thead>\n",
              "  <tbody>\n",
              "    <tr>\n",
              "      <th>0</th>\n",
              "      <td>0.00632</td>\n",
              "      <td>18.0</td>\n",
              "      <td>2.31</td>\n",
              "      <td>0</td>\n",
              "      <td>0.538</td>\n",
              "      <td>6.575</td>\n",
              "      <td>65.2</td>\n",
              "      <td>4.0900</td>\n",
              "      <td>1</td>\n",
              "      <td>296</td>\n",
              "      <td>15.3</td>\n",
              "      <td>396.90</td>\n",
              "      <td>4.98</td>\n",
              "    </tr>\n",
              "    <tr>\n",
              "      <th>1</th>\n",
              "      <td>0.02731</td>\n",
              "      <td>0.0</td>\n",
              "      <td>7.07</td>\n",
              "      <td>0</td>\n",
              "      <td>0.469</td>\n",
              "      <td>6.421</td>\n",
              "      <td>78.9</td>\n",
              "      <td>4.9671</td>\n",
              "      <td>2</td>\n",
              "      <td>242</td>\n",
              "      <td>17.8</td>\n",
              "      <td>396.90</td>\n",
              "      <td>9.14</td>\n",
              "    </tr>\n",
              "    <tr>\n",
              "      <th>2</th>\n",
              "      <td>0.02729</td>\n",
              "      <td>0.0</td>\n",
              "      <td>7.07</td>\n",
              "      <td>0</td>\n",
              "      <td>0.469</td>\n",
              "      <td>7.185</td>\n",
              "      <td>61.1</td>\n",
              "      <td>4.9671</td>\n",
              "      <td>2</td>\n",
              "      <td>242</td>\n",
              "      <td>17.8</td>\n",
              "      <td>392.83</td>\n",
              "      <td>4.03</td>\n",
              "    </tr>\n",
              "    <tr>\n",
              "      <th>3</th>\n",
              "      <td>0.03237</td>\n",
              "      <td>0.0</td>\n",
              "      <td>2.18</td>\n",
              "      <td>0</td>\n",
              "      <td>0.458</td>\n",
              "      <td>6.998</td>\n",
              "      <td>45.8</td>\n",
              "      <td>6.0622</td>\n",
              "      <td>3</td>\n",
              "      <td>222</td>\n",
              "      <td>18.7</td>\n",
              "      <td>394.63</td>\n",
              "      <td>2.94</td>\n",
              "    </tr>\n",
              "    <tr>\n",
              "      <th>4</th>\n",
              "      <td>0.06905</td>\n",
              "      <td>0.0</td>\n",
              "      <td>2.18</td>\n",
              "      <td>0</td>\n",
              "      <td>0.458</td>\n",
              "      <td>7.147</td>\n",
              "      <td>54.2</td>\n",
              "      <td>6.0622</td>\n",
              "      <td>3</td>\n",
              "      <td>222</td>\n",
              "      <td>18.7</td>\n",
              "      <td>396.90</td>\n",
              "      <td>5.33</td>\n",
              "    </tr>\n",
              "  </tbody>\n",
              "</table>\n",
              "</div>"
            ],
            "text/plain": [
              "      crim    zn  indus  chas    nox  ...  rad  tax  ptratio   black  lstat\n",
              "0  0.00632  18.0   2.31     0  0.538  ...    1  296     15.3  396.90   4.98\n",
              "1  0.02731   0.0   7.07     0  0.469  ...    2  242     17.8  396.90   9.14\n",
              "2  0.02729   0.0   7.07     0  0.469  ...    2  242     17.8  392.83   4.03\n",
              "3  0.03237   0.0   2.18     0  0.458  ...    3  222     18.7  394.63   2.94\n",
              "4  0.06905   0.0   2.18     0  0.458  ...    3  222     18.7  396.90   5.33\n",
              "\n",
              "[5 rows x 13 columns]"
            ]
          },
          "metadata": {
            "tags": []
          },
          "execution_count": 78
        }
      ]
    },
    {
      "cell_type": "code",
      "metadata": {
        "colab": {
          "base_uri": "https://localhost:8080/",
          "height": 204
        },
        "id": "eAhe3HqLW62F",
        "outputId": "7da092b7-3d20-474a-e033-6966400abeb7"
      },
      "source": [
        "pd.DataFrame(Y.head())"
      ],
      "execution_count": 79,
      "outputs": [
        {
          "output_type": "execute_result",
          "data": {
            "text/html": [
              "<div>\n",
              "<style scoped>\n",
              "    .dataframe tbody tr th:only-of-type {\n",
              "        vertical-align: middle;\n",
              "    }\n",
              "\n",
              "    .dataframe tbody tr th {\n",
              "        vertical-align: top;\n",
              "    }\n",
              "\n",
              "    .dataframe thead th {\n",
              "        text-align: right;\n",
              "    }\n",
              "</style>\n",
              "<table border=\"1\" class=\"dataframe\">\n",
              "  <thead>\n",
              "    <tr style=\"text-align: right;\">\n",
              "      <th></th>\n",
              "      <th>medv</th>\n",
              "    </tr>\n",
              "  </thead>\n",
              "  <tbody>\n",
              "    <tr>\n",
              "      <th>0</th>\n",
              "      <td>24.0</td>\n",
              "    </tr>\n",
              "    <tr>\n",
              "      <th>1</th>\n",
              "      <td>21.6</td>\n",
              "    </tr>\n",
              "    <tr>\n",
              "      <th>2</th>\n",
              "      <td>34.7</td>\n",
              "    </tr>\n",
              "    <tr>\n",
              "      <th>3</th>\n",
              "      <td>33.4</td>\n",
              "    </tr>\n",
              "    <tr>\n",
              "      <th>4</th>\n",
              "      <td>36.2</td>\n",
              "    </tr>\n",
              "  </tbody>\n",
              "</table>\n",
              "</div>"
            ],
            "text/plain": [
              "   medv\n",
              "0  24.0\n",
              "1  21.6\n",
              "2  34.7\n",
              "3  33.4\n",
              "4  36.2"
            ]
          },
          "metadata": {
            "tags": []
          },
          "execution_count": 79
        }
      ]
    },
    {
      "cell_type": "code",
      "metadata": {
        "id": "r5puKAAMW62F"
      },
      "source": [
        "from sklearn.tree import DecisionTreeRegressor"
      ],
      "execution_count": 80,
      "outputs": []
    },
    {
      "cell_type": "code",
      "metadata": {
        "collapsed": true,
        "id": "ScqdEcWCW62G"
      },
      "source": [
        "regtree = DecisionTreeRegressor(min_samples_split=30, min_samples_leaf=3, random_state=0)\n"
      ],
      "execution_count": 81,
      "outputs": []
    },
    {
      "cell_type": "code",
      "metadata": {
        "colab": {
          "base_uri": "https://localhost:8080/"
        },
        "id": "zM2L5m6gW62G",
        "outputId": "8a8be73d-d009-4db5-a163-a3ad3d3ca7c6"
      },
      "source": [
        "regtree.fit(X,Y)"
      ],
      "execution_count": 82,
      "outputs": [
        {
          "output_type": "execute_result",
          "data": {
            "text/plain": [
              "DecisionTreeRegressor(ccp_alpha=0.0, criterion='mse', max_depth=None,\n",
              "                      max_features=None, max_leaf_nodes=None,\n",
              "                      min_impurity_decrease=0.0, min_impurity_split=None,\n",
              "                      min_samples_leaf=3, min_samples_split=30,\n",
              "                      min_weight_fraction_leaf=0.0, presort='deprecated',\n",
              "                      random_state=0, splitter='best')"
            ]
          },
          "metadata": {
            "tags": []
          },
          "execution_count": 82
        }
      ]
    },
    {
      "cell_type": "code",
      "metadata": {
        "collapsed": true,
        "id": "4gMEJoQtW62H"
      },
      "source": [
        "preds = regtree.predict(data[predictors])"
      ],
      "execution_count": 83,
      "outputs": []
    },
    {
      "cell_type": "code",
      "metadata": {
        "collapsed": true,
        "id": "3tO0jbqxW62H"
      },
      "source": [
        "data[\"preds\"]=preds"
      ],
      "execution_count": 84,
      "outputs": []
    },
    {
      "cell_type": "code",
      "metadata": {
        "colab": {
          "base_uri": "https://localhost:8080/",
          "height": 204
        },
        "id": "UBRAYTLMW62H",
        "outputId": "559344ce-5b9d-45ac-d65d-4dc0ab711da8"
      },
      "source": [
        "data[[\"preds\",\"medv\"]].head()"
      ],
      "execution_count": 85,
      "outputs": [
        {
          "output_type": "execute_result",
          "data": {
            "text/html": [
              "<div>\n",
              "<style scoped>\n",
              "    .dataframe tbody tr th:only-of-type {\n",
              "        vertical-align: middle;\n",
              "    }\n",
              "\n",
              "    .dataframe tbody tr th {\n",
              "        vertical-align: top;\n",
              "    }\n",
              "\n",
              "    .dataframe thead th {\n",
              "        text-align: right;\n",
              "    }\n",
              "</style>\n",
              "<table border=\"1\" class=\"dataframe\">\n",
              "  <thead>\n",
              "    <tr style=\"text-align: right;\">\n",
              "      <th></th>\n",
              "      <th>preds</th>\n",
              "      <th>medv</th>\n",
              "    </tr>\n",
              "  </thead>\n",
              "  <tbody>\n",
              "    <tr>\n",
              "      <th>0</th>\n",
              "      <td>23.466667</td>\n",
              "      <td>24.0</td>\n",
              "    </tr>\n",
              "    <tr>\n",
              "      <th>1</th>\n",
              "      <td>22.920833</td>\n",
              "      <td>21.6</td>\n",
              "    </tr>\n",
              "    <tr>\n",
              "      <th>2</th>\n",
              "      <td>34.155556</td>\n",
              "      <td>34.7</td>\n",
              "    </tr>\n",
              "    <tr>\n",
              "      <th>3</th>\n",
              "      <td>34.155556</td>\n",
              "      <td>33.4</td>\n",
              "    </tr>\n",
              "    <tr>\n",
              "      <th>4</th>\n",
              "      <td>34.155556</td>\n",
              "      <td>36.2</td>\n",
              "    </tr>\n",
              "  </tbody>\n",
              "</table>\n",
              "</div>"
            ],
            "text/plain": [
              "       preds  medv\n",
              "0  23.466667  24.0\n",
              "1  22.920833  21.6\n",
              "2  34.155556  34.7\n",
              "3  34.155556  33.4\n",
              "4  34.155556  36.2"
            ]
          },
          "metadata": {
            "tags": []
          },
          "execution_count": 85
        }
      ]
    },
    {
      "cell_type": "code",
      "metadata": {
        "collapsed": true,
        "id": "LfEoX5JLW62I"
      },
      "source": [
        "from sklearn.tree import export_graphviz\n",
        "with open(\"boston_rtree.dot\",\"w\") as dotfile:\n",
        "    export_graphviz(regtree, out_file = dotfile, feature_names = predictors)\n",
        "    dotfile.close()"
      ],
      "execution_count": 86,
      "outputs": []
    },
    {
      "cell_type": "code",
      "metadata": {
        "colab": {
          "base_uri": "https://localhost:8080/",
          "height": 204
        },
        "id": "diZIRnluW62I",
        "outputId": "56f119bf-9b7e-41ee-8cd4-0fc96b12f65e"
      },
      "source": [
        "import os\n",
        "from graphviz import Source\n",
        "X.head()"
      ],
      "execution_count": 87,
      "outputs": [
        {
          "output_type": "execute_result",
          "data": {
            "text/html": [
              "<div>\n",
              "<style scoped>\n",
              "    .dataframe tbody tr th:only-of-type {\n",
              "        vertical-align: middle;\n",
              "    }\n",
              "\n",
              "    .dataframe tbody tr th {\n",
              "        vertical-align: top;\n",
              "    }\n",
              "\n",
              "    .dataframe thead th {\n",
              "        text-align: right;\n",
              "    }\n",
              "</style>\n",
              "<table border=\"1\" class=\"dataframe\">\n",
              "  <thead>\n",
              "    <tr style=\"text-align: right;\">\n",
              "      <th></th>\n",
              "      <th>crim</th>\n",
              "      <th>zn</th>\n",
              "      <th>indus</th>\n",
              "      <th>chas</th>\n",
              "      <th>nox</th>\n",
              "      <th>rm</th>\n",
              "      <th>age</th>\n",
              "      <th>dis</th>\n",
              "      <th>rad</th>\n",
              "      <th>tax</th>\n",
              "      <th>ptratio</th>\n",
              "      <th>black</th>\n",
              "      <th>lstat</th>\n",
              "    </tr>\n",
              "  </thead>\n",
              "  <tbody>\n",
              "    <tr>\n",
              "      <th>0</th>\n",
              "      <td>0.00632</td>\n",
              "      <td>18.0</td>\n",
              "      <td>2.31</td>\n",
              "      <td>0</td>\n",
              "      <td>0.538</td>\n",
              "      <td>6.575</td>\n",
              "      <td>65.2</td>\n",
              "      <td>4.0900</td>\n",
              "      <td>1</td>\n",
              "      <td>296</td>\n",
              "      <td>15.3</td>\n",
              "      <td>396.90</td>\n",
              "      <td>4.98</td>\n",
              "    </tr>\n",
              "    <tr>\n",
              "      <th>1</th>\n",
              "      <td>0.02731</td>\n",
              "      <td>0.0</td>\n",
              "      <td>7.07</td>\n",
              "      <td>0</td>\n",
              "      <td>0.469</td>\n",
              "      <td>6.421</td>\n",
              "      <td>78.9</td>\n",
              "      <td>4.9671</td>\n",
              "      <td>2</td>\n",
              "      <td>242</td>\n",
              "      <td>17.8</td>\n",
              "      <td>396.90</td>\n",
              "      <td>9.14</td>\n",
              "    </tr>\n",
              "    <tr>\n",
              "      <th>2</th>\n",
              "      <td>0.02729</td>\n",
              "      <td>0.0</td>\n",
              "      <td>7.07</td>\n",
              "      <td>0</td>\n",
              "      <td>0.469</td>\n",
              "      <td>7.185</td>\n",
              "      <td>61.1</td>\n",
              "      <td>4.9671</td>\n",
              "      <td>2</td>\n",
              "      <td>242</td>\n",
              "      <td>17.8</td>\n",
              "      <td>392.83</td>\n",
              "      <td>4.03</td>\n",
              "    </tr>\n",
              "    <tr>\n",
              "      <th>3</th>\n",
              "      <td>0.03237</td>\n",
              "      <td>0.0</td>\n",
              "      <td>2.18</td>\n",
              "      <td>0</td>\n",
              "      <td>0.458</td>\n",
              "      <td>6.998</td>\n",
              "      <td>45.8</td>\n",
              "      <td>6.0622</td>\n",
              "      <td>3</td>\n",
              "      <td>222</td>\n",
              "      <td>18.7</td>\n",
              "      <td>394.63</td>\n",
              "      <td>2.94</td>\n",
              "    </tr>\n",
              "    <tr>\n",
              "      <th>4</th>\n",
              "      <td>0.06905</td>\n",
              "      <td>0.0</td>\n",
              "      <td>2.18</td>\n",
              "      <td>0</td>\n",
              "      <td>0.458</td>\n",
              "      <td>7.147</td>\n",
              "      <td>54.2</td>\n",
              "      <td>6.0622</td>\n",
              "      <td>3</td>\n",
              "      <td>222</td>\n",
              "      <td>18.7</td>\n",
              "      <td>396.90</td>\n",
              "      <td>5.33</td>\n",
              "    </tr>\n",
              "  </tbody>\n",
              "</table>\n",
              "</div>"
            ],
            "text/plain": [
              "      crim    zn  indus  chas    nox  ...  rad  tax  ptratio   black  lstat\n",
              "0  0.00632  18.0   2.31     0  0.538  ...    1  296     15.3  396.90   4.98\n",
              "1  0.02731   0.0   7.07     0  0.469  ...    2  242     17.8  396.90   9.14\n",
              "2  0.02729   0.0   7.07     0  0.469  ...    2  242     17.8  392.83   4.03\n",
              "3  0.03237   0.0   2.18     0  0.458  ...    3  222     18.7  394.63   2.94\n",
              "4  0.06905   0.0   2.18     0  0.458  ...    3  222     18.7  396.90   5.33\n",
              "\n",
              "[5 rows x 13 columns]"
            ]
          },
          "metadata": {
            "tags": []
          },
          "execution_count": 87
        }
      ]
    },
    {
      "cell_type": "code",
      "metadata": {
        "colab": {
          "base_uri": "https://localhost:8080/",
          "height": 1000
        },
        "id": "zn_bPzQAW62I",
        "outputId": "6f6655dc-6975-4fe0-ad23-20c89f6eae57"
      },
      "source": [
        "file = open(\"boston_rtree.dot\",\"r\")\n",
        "text = file.read()\n",
        "Source(text)"
      ],
      "execution_count": 88,
      "outputs": [
        {
          "output_type": "execute_result",
          "data": {
            "text/plain": [
              "<graphviz.files.Source at 0x7f1743fb7150>"
            ],
            "image/svg+xml": "<?xml version=\"1.0\" encoding=\"UTF-8\" standalone=\"no\"?>\n<!DOCTYPE svg PUBLIC \"-//W3C//DTD SVG 1.1//EN\"\n \"http://www.w3.org/Graphics/SVG/1.1/DTD/svg11.dtd\">\n<!-- Generated by graphviz version 2.40.1 (20161225.0304)\n -->\n<!-- Title: Tree Pages: 1 -->\n<svg width=\"1540pt\" height=\"1101pt\"\n viewBox=\"0.00 0.00 1540.00 1101.00\" xmlns=\"http://www.w3.org/2000/svg\" xmlns:xlink=\"http://www.w3.org/1999/xlink\">\n<g id=\"graph0\" class=\"graph\" transform=\"scale(1 1) rotate(0) translate(4 1097)\">\n<title>Tree</title>\n<polygon fill=\"#ffffff\" stroke=\"transparent\" points=\"-4,4 -4,-1097 1536,-1097 1536,4 -4,4\"/>\n<!-- 0 -->\n<g id=\"node1\" class=\"node\">\n<title>0</title>\n<polygon fill=\"none\" stroke=\"#000000\" points=\"1066,-1093 962,-1093 962,-1025 1066,-1025 1066,-1093\"/>\n<text text-anchor=\"middle\" x=\"1014\" y=\"-1077.8\" font-family=\"Times,serif\" font-size=\"14.00\" fill=\"#000000\">rm &lt;= 6.941</text>\n<text text-anchor=\"middle\" x=\"1014\" y=\"-1062.8\" font-family=\"Times,serif\" font-size=\"14.00\" fill=\"#000000\">mse = 84.42</text>\n<text text-anchor=\"middle\" x=\"1014\" y=\"-1047.8\" font-family=\"Times,serif\" font-size=\"14.00\" fill=\"#000000\">samples = 506</text>\n<text text-anchor=\"middle\" x=\"1014\" y=\"-1032.8\" font-family=\"Times,serif\" font-size=\"14.00\" fill=\"#000000\">value = 22.533</text>\n</g>\n<!-- 1 -->\n<g id=\"node2\" class=\"node\">\n<title>1</title>\n<polygon fill=\"none\" stroke=\"#000000\" points=\"883,-989 779,-989 779,-921 883,-921 883,-989\"/>\n<text text-anchor=\"middle\" x=\"831\" y=\"-973.8\" font-family=\"Times,serif\" font-size=\"14.00\" fill=\"#000000\">lstat &lt;= 14.4</text>\n<text text-anchor=\"middle\" x=\"831\" y=\"-958.8\" font-family=\"Times,serif\" font-size=\"14.00\" fill=\"#000000\">mse = 40.273</text>\n<text text-anchor=\"middle\" x=\"831\" y=\"-943.8\" font-family=\"Times,serif\" font-size=\"14.00\" fill=\"#000000\">samples = 430</text>\n<text text-anchor=\"middle\" x=\"831\" y=\"-928.8\" font-family=\"Times,serif\" font-size=\"14.00\" fill=\"#000000\">value = 19.934</text>\n</g>\n<!-- 0&#45;&gt;1 -->\n<g id=\"edge1\" class=\"edge\">\n<title>0&#45;&gt;1</title>\n<path fill=\"none\" stroke=\"#000000\" d=\"M961.5595,-1029.1978C939.8345,-1016.8513 914.4929,-1002.4495 891.9471,-989.6366\"/>\n<polygon fill=\"#000000\" stroke=\"#000000\" points=\"893.555,-986.5247 883.1315,-984.6266 890.0963,-992.6105 893.555,-986.5247\"/>\n<text text-anchor=\"middle\" x=\"889.7663\" y=\"-1005.0302\" font-family=\"Times,serif\" font-size=\"14.00\" fill=\"#000000\">True</text>\n</g>\n<!-- 52 -->\n<g id=\"node53\" class=\"node\">\n<title>52</title>\n<polygon fill=\"none\" stroke=\"#000000\" points=\"1242,-989 1138,-989 1138,-921 1242,-921 1242,-989\"/>\n<text text-anchor=\"middle\" x=\"1190\" y=\"-973.8\" font-family=\"Times,serif\" font-size=\"14.00\" fill=\"#000000\">rm &lt;= 7.437</text>\n<text text-anchor=\"middle\" x=\"1190\" y=\"-958.8\" font-family=\"Times,serif\" font-size=\"14.00\" fill=\"#000000\">mse = 79.729</text>\n<text text-anchor=\"middle\" x=\"1190\" y=\"-943.8\" font-family=\"Times,serif\" font-size=\"14.00\" fill=\"#000000\">samples = 76</text>\n<text text-anchor=\"middle\" x=\"1190\" y=\"-928.8\" font-family=\"Times,serif\" font-size=\"14.00\" fill=\"#000000\">value = 37.238</text>\n</g>\n<!-- 0&#45;&gt;52 -->\n<g id=\"edge52\" class=\"edge\">\n<title>0&#45;&gt;52</title>\n<path fill=\"none\" stroke=\"#000000\" d=\"M1066.3293,-1028.0782C1086.1009,-1016.3949 1108.7644,-1003.0028 1129.2439,-990.9013\"/>\n<polygon fill=\"#000000\" stroke=\"#000000\" points=\"1131.0436,-993.9033 1137.8723,-985.8027 1127.4825,-987.8768 1131.0436,-993.9033\"/>\n<text text-anchor=\"middle\" x=\"1131.6463\" y=\"-1006.315\" font-family=\"Times,serif\" font-size=\"14.00\" fill=\"#000000\">False</text>\n</g>\n<!-- 2 -->\n<g id=\"node3\" class=\"node\">\n<title>2</title>\n<polygon fill=\"none\" stroke=\"#000000\" points=\"576,-885 476,-885 476,-817 576,-817 576,-885\"/>\n<text text-anchor=\"middle\" x=\"526\" y=\"-869.8\" font-family=\"Times,serif\" font-size=\"14.00\" fill=\"#000000\">dis &lt;= 1.385</text>\n<text text-anchor=\"middle\" x=\"526\" y=\"-854.8\" font-family=\"Times,serif\" font-size=\"14.00\" fill=\"#000000\">mse = 26.009</text>\n<text text-anchor=\"middle\" x=\"526\" y=\"-839.8\" font-family=\"Times,serif\" font-size=\"14.00\" fill=\"#000000\">samples = 255</text>\n<text text-anchor=\"middle\" x=\"526\" y=\"-824.8\" font-family=\"Times,serif\" font-size=\"14.00\" fill=\"#000000\">value = 23.35</text>\n</g>\n<!-- 1&#45;&gt;2 -->\n<g id=\"edge2\" class=\"edge\">\n<title>1&#45;&gt;2</title>\n<path fill=\"none\" stroke=\"#000000\" d=\"M778.9152,-937.2399C725.2766,-918.95 641.8025,-890.4868 585.5718,-871.313\"/>\n<polygon fill=\"#000000\" stroke=\"#000000\" points=\"586.6918,-867.9971 576.0973,-868.0824 584.4326,-874.6225 586.6918,-867.9971\"/>\n</g>\n<!-- 31 -->\n<g id=\"node32\" class=\"node\">\n<title>31</title>\n<polygon fill=\"none\" stroke=\"#000000\" points=\"883,-885 779,-885 779,-817 883,-817 883,-885\"/>\n<text text-anchor=\"middle\" x=\"831\" y=\"-869.8\" font-family=\"Times,serif\" font-size=\"14.00\" fill=\"#000000\">crim &lt;= 6.992</text>\n<text text-anchor=\"middle\" x=\"831\" y=\"-854.8\" font-family=\"Times,serif\" font-size=\"14.00\" fill=\"#000000\">mse = 19.276</text>\n<text text-anchor=\"middle\" x=\"831\" y=\"-839.8\" font-family=\"Times,serif\" font-size=\"14.00\" fill=\"#000000\">samples = 175</text>\n<text text-anchor=\"middle\" x=\"831\" y=\"-824.8\" font-family=\"Times,serif\" font-size=\"14.00\" fill=\"#000000\">value = 14.956</text>\n</g>\n<!-- 1&#45;&gt;31 -->\n<g id=\"edge31\" class=\"edge\">\n<title>1&#45;&gt;31</title>\n<path fill=\"none\" stroke=\"#000000\" d=\"M831,-920.9465C831,-912.776 831,-903.9318 831,-895.3697\"/>\n<polygon fill=\"#000000\" stroke=\"#000000\" points=\"834.5001,-895.13 831,-885.13 827.5001,-895.13 834.5001,-895.13\"/>\n</g>\n<!-- 3 -->\n<g id=\"node4\" class=\"node\">\n<title>3</title>\n<polygon fill=\"none\" stroke=\"#000000\" points=\"455.5,-773.5 358.5,-773.5 358.5,-720.5 455.5,-720.5 455.5,-773.5\"/>\n<text text-anchor=\"middle\" x=\"407\" y=\"-758.3\" font-family=\"Times,serif\" font-size=\"14.00\" fill=\"#000000\">mse = 78.146</text>\n<text text-anchor=\"middle\" x=\"407\" y=\"-743.3\" font-family=\"Times,serif\" font-size=\"14.00\" fill=\"#000000\">samples = 5</text>\n<text text-anchor=\"middle\" x=\"407\" y=\"-728.3\" font-family=\"Times,serif\" font-size=\"14.00\" fill=\"#000000\">value = 45.58</text>\n</g>\n<!-- 2&#45;&gt;3 -->\n<g id=\"edge3\" class=\"edge\">\n<title>2&#45;&gt;3</title>\n<path fill=\"none\" stroke=\"#000000\" d=\"M487.0349,-816.9465C473.5491,-805.1606 458.4591,-791.9726 445.0479,-780.2519\"/>\n<polygon fill=\"#000000\" stroke=\"#000000\" points=\"447.2033,-777.4874 437.3704,-773.5422 442.5969,-782.7582 447.2033,-777.4874\"/>\n</g>\n<!-- 4 -->\n<g id=\"node5\" class=\"node\">\n<title>4</title>\n<polygon fill=\"none\" stroke=\"#000000\" points=\"578,-781 474,-781 474,-713 578,-713 578,-781\"/>\n<text text-anchor=\"middle\" x=\"526\" y=\"-765.8\" font-family=\"Times,serif\" font-size=\"14.00\" fill=\"#000000\">rm &lt;= 6.543</text>\n<text text-anchor=\"middle\" x=\"526\" y=\"-750.8\" font-family=\"Times,serif\" font-size=\"14.00\" fill=\"#000000\">mse = 14.885</text>\n<text text-anchor=\"middle\" x=\"526\" y=\"-735.8\" font-family=\"Times,serif\" font-size=\"14.00\" fill=\"#000000\">samples = 250</text>\n<text text-anchor=\"middle\" x=\"526\" y=\"-720.8\" font-family=\"Times,serif\" font-size=\"14.00\" fill=\"#000000\">value = 22.905</text>\n</g>\n<!-- 2&#45;&gt;4 -->\n<g id=\"edge4\" class=\"edge\">\n<title>2&#45;&gt;4</title>\n<path fill=\"none\" stroke=\"#000000\" d=\"M526,-816.9465C526,-808.776 526,-799.9318 526,-791.3697\"/>\n<polygon fill=\"#000000\" stroke=\"#000000\" points=\"529.5001,-791.13 526,-781.13 522.5001,-791.13 529.5001,-791.13\"/>\n</g>\n<!-- 5 -->\n<g id=\"node6\" class=\"node\">\n<title>5</title>\n<polygon fill=\"none\" stroke=\"#000000\" points=\"399,-677 299,-677 299,-609 399,-609 399,-677\"/>\n<text text-anchor=\"middle\" x=\"349\" y=\"-661.8\" font-family=\"Times,serif\" font-size=\"14.00\" fill=\"#000000\">lstat &lt;= 7.57</text>\n<text text-anchor=\"middle\" x=\"349\" y=\"-646.8\" font-family=\"Times,serif\" font-size=\"14.00\" fill=\"#000000\">mse = 8.39</text>\n<text text-anchor=\"middle\" x=\"349\" y=\"-631.8\" font-family=\"Times,serif\" font-size=\"14.00\" fill=\"#000000\">samples = 195</text>\n<text text-anchor=\"middle\" x=\"349\" y=\"-616.8\" font-family=\"Times,serif\" font-size=\"14.00\" fill=\"#000000\">value = 21.63</text>\n</g>\n<!-- 4&#45;&gt;5 -->\n<g id=\"edge5\" class=\"edge\">\n<title>4&#45;&gt;5</title>\n<path fill=\"none\" stroke=\"#000000\" d=\"M473.8515,-716.3591C453.148,-704.1943 429.232,-690.142 407.9068,-677.6119\"/>\n<polygon fill=\"#000000\" stroke=\"#000000\" points=\"409.65,-674.5767 399.255,-672.5284 406.1038,-680.612 409.65,-674.5767\"/>\n</g>\n<!-- 26 -->\n<g id=\"node27\" class=\"node\">\n<title>26</title>\n<polygon fill=\"none\" stroke=\"#000000\" points=\"578,-677 474,-677 474,-609 578,-609 578,-677\"/>\n<text text-anchor=\"middle\" x=\"526\" y=\"-661.8\" font-family=\"Times,serif\" font-size=\"14.00\" fill=\"#000000\">tax &lt;= 269.0</text>\n<text text-anchor=\"middle\" x=\"526\" y=\"-646.8\" font-family=\"Times,serif\" font-size=\"14.00\" fill=\"#000000\">mse = 11.694</text>\n<text text-anchor=\"middle\" x=\"526\" y=\"-631.8\" font-family=\"Times,serif\" font-size=\"14.00\" fill=\"#000000\">samples = 55</text>\n<text text-anchor=\"middle\" x=\"526\" y=\"-616.8\" font-family=\"Times,serif\" font-size=\"14.00\" fill=\"#000000\">value = 27.427</text>\n</g>\n<!-- 4&#45;&gt;26 -->\n<g id=\"edge26\" class=\"edge\">\n<title>4&#45;&gt;26</title>\n<path fill=\"none\" stroke=\"#000000\" d=\"M526,-712.9465C526,-704.776 526,-695.9318 526,-687.3697\"/>\n<polygon fill=\"#000000\" stroke=\"#000000\" points=\"529.5001,-687.13 526,-677.13 522.5001,-687.13 529.5001,-687.13\"/>\n</g>\n<!-- 6 -->\n<g id=\"node7\" class=\"node\">\n<title>6</title>\n<polygon fill=\"none\" stroke=\"#000000\" points=\"222.5,-573 125.5,-573 125.5,-505 222.5,-505 222.5,-573\"/>\n<text text-anchor=\"middle\" x=\"174\" y=\"-557.8\" font-family=\"Times,serif\" font-size=\"14.00\" fill=\"#000000\">dis &lt;= 6.364</text>\n<text text-anchor=\"middle\" x=\"174\" y=\"-542.8\" font-family=\"Times,serif\" font-size=\"14.00\" fill=\"#000000\">mse = 3.015</text>\n<text text-anchor=\"middle\" x=\"174\" y=\"-527.8\" font-family=\"Times,serif\" font-size=\"14.00\" fill=\"#000000\">samples = 43</text>\n<text text-anchor=\"middle\" x=\"174\" y=\"-512.8\" font-family=\"Times,serif\" font-size=\"14.00\" fill=\"#000000\">value = 23.97</text>\n</g>\n<!-- 5&#45;&gt;6 -->\n<g id=\"edge6\" class=\"edge\">\n<title>5&#45;&gt;6</title>\n<path fill=\"none\" stroke=\"#000000\" d=\"M298.852,-613.1978C277.8136,-600.6949 253.2285,-586.0844 231.4648,-573.1505\"/>\n<polygon fill=\"#000000\" stroke=\"#000000\" points=\"233.0311,-570.0099 222.6465,-567.9099 229.4549,-576.0275 233.0311,-570.0099\"/>\n</g>\n<!-- 9 -->\n<g id=\"node10\" class=\"node\">\n<title>9</title>\n<polygon fill=\"none\" stroke=\"#000000\" points=\"401,-573 297,-573 297,-505 401,-505 401,-573\"/>\n<text text-anchor=\"middle\" x=\"349\" y=\"-557.8\" font-family=\"Times,serif\" font-size=\"14.00\" fill=\"#000000\">tax &lt;= 208.0</text>\n<text text-anchor=\"middle\" x=\"349\" y=\"-542.8\" font-family=\"Times,serif\" font-size=\"14.00\" fill=\"#000000\">mse = 7.924</text>\n<text text-anchor=\"middle\" x=\"349\" y=\"-527.8\" font-family=\"Times,serif\" font-size=\"14.00\" fill=\"#000000\">samples = 152</text>\n<text text-anchor=\"middle\" x=\"349\" y=\"-512.8\" font-family=\"Times,serif\" font-size=\"14.00\" fill=\"#000000\">value = 20.968</text>\n</g>\n<!-- 5&#45;&gt;9 -->\n<g id=\"edge9\" class=\"edge\">\n<title>5&#45;&gt;9</title>\n<path fill=\"none\" stroke=\"#000000\" d=\"M349,-608.9465C349,-600.776 349,-591.9318 349,-583.3697\"/>\n<polygon fill=\"#000000\" stroke=\"#000000\" points=\"352.5001,-583.13 349,-573.13 345.5001,-583.13 352.5001,-583.13\"/>\n</g>\n<!-- 7 -->\n<g id=\"node8\" class=\"node\">\n<title>7</title>\n<polygon fill=\"none\" stroke=\"#000000\" points=\"104,-461.5 0,-461.5 0,-408.5 104,-408.5 104,-461.5\"/>\n<text text-anchor=\"middle\" x=\"52\" y=\"-446.3\" font-family=\"Times,serif\" font-size=\"14.00\" fill=\"#000000\">mse = 3.002</text>\n<text text-anchor=\"middle\" x=\"52\" y=\"-431.3\" font-family=\"Times,serif\" font-size=\"14.00\" fill=\"#000000\">samples = 27</text>\n<text text-anchor=\"middle\" x=\"52\" y=\"-416.3\" font-family=\"Times,serif\" font-size=\"14.00\" fill=\"#000000\">value = 24.519</text>\n</g>\n<!-- 6&#45;&gt;7 -->\n<g id=\"edge7\" class=\"edge\">\n<title>6&#45;&gt;7</title>\n<path fill=\"none\" stroke=\"#000000\" d=\"M134.0526,-504.9465C120.2268,-493.1606 104.7564,-479.9726 91.0071,-468.2519\"/>\n<polygon fill=\"#000000\" stroke=\"#000000\" points=\"93.0168,-465.366 83.136,-461.5422 88.4756,-470.6931 93.0168,-465.366\"/>\n</g>\n<!-- 8 -->\n<g id=\"node9\" class=\"node\">\n<title>8</title>\n<polygon fill=\"none\" stroke=\"#000000\" points=\"226,-461.5 122,-461.5 122,-408.5 226,-408.5 226,-461.5\"/>\n<text text-anchor=\"middle\" x=\"174\" y=\"-446.3\" font-family=\"Times,serif\" font-size=\"14.00\" fill=\"#000000\">mse = 1.671</text>\n<text text-anchor=\"middle\" x=\"174\" y=\"-431.3\" font-family=\"Times,serif\" font-size=\"14.00\" fill=\"#000000\">samples = 16</text>\n<text text-anchor=\"middle\" x=\"174\" y=\"-416.3\" font-family=\"Times,serif\" font-size=\"14.00\" fill=\"#000000\">value = 23.044</text>\n</g>\n<!-- 6&#45;&gt;8 -->\n<g id=\"edge8\" class=\"edge\">\n<title>6&#45;&gt;8</title>\n<path fill=\"none\" stroke=\"#000000\" d=\"M174,-504.9465C174,-494.2621 174,-482.4254 174,-471.5742\"/>\n<polygon fill=\"#000000\" stroke=\"#000000\" points=\"177.5001,-471.5421 174,-461.5422 170.5001,-471.5422 177.5001,-471.5421\"/>\n</g>\n<!-- 10 -->\n<g id=\"node11\" class=\"node\">\n<title>10</title>\n<polygon fill=\"none\" stroke=\"#000000\" points=\"333.5,-461.5 244.5,-461.5 244.5,-408.5 333.5,-408.5 333.5,-461.5\"/>\n<text text-anchor=\"middle\" x=\"289\" y=\"-446.3\" font-family=\"Times,serif\" font-size=\"14.00\" fill=\"#000000\">mse = 32.32</text>\n<text text-anchor=\"middle\" x=\"289\" y=\"-431.3\" font-family=\"Times,serif\" font-size=\"14.00\" fill=\"#000000\">samples = 5</text>\n<text text-anchor=\"middle\" x=\"289\" y=\"-416.3\" font-family=\"Times,serif\" font-size=\"14.00\" fill=\"#000000\">value = 26.9</text>\n</g>\n<!-- 9&#45;&gt;10 -->\n<g id=\"edge10\" class=\"edge\">\n<title>9&#45;&gt;10</title>\n<path fill=\"none\" stroke=\"#000000\" d=\"M329.3538,-504.9465C322.9355,-493.8215 315.7965,-481.4473 309.329,-470.237\"/>\n<polygon fill=\"#000000\" stroke=\"#000000\" points=\"312.3417,-468.455 304.3128,-461.5422 306.2784,-471.9531 312.3417,-468.455\"/>\n</g>\n<!-- 11 -->\n<g id=\"node12\" class=\"node\">\n<title>11</title>\n<polygon fill=\"none\" stroke=\"#000000\" points=\"456,-469 352,-469 352,-401 456,-401 456,-469\"/>\n<text text-anchor=\"middle\" x=\"404\" y=\"-453.8\" font-family=\"Times,serif\" font-size=\"14.00\" fill=\"#000000\">rm &lt;= 6.078</text>\n<text text-anchor=\"middle\" x=\"404\" y=\"-438.8\" font-family=\"Times,serif\" font-size=\"14.00\" fill=\"#000000\">mse = 5.856</text>\n<text text-anchor=\"middle\" x=\"404\" y=\"-423.8\" font-family=\"Times,serif\" font-size=\"14.00\" fill=\"#000000\">samples = 147</text>\n<text text-anchor=\"middle\" x=\"404\" y=\"-408.8\" font-family=\"Times,serif\" font-size=\"14.00\" fill=\"#000000\">value = 20.766</text>\n</g>\n<!-- 9&#45;&gt;11 -->\n<g id=\"edge11\" class=\"edge\">\n<title>9&#45;&gt;11</title>\n<path fill=\"none\" stroke=\"#000000\" d=\"M367.0091,-504.9465C371.5199,-496.4169 376.4191,-487.153 381.1314,-478.2424\"/>\n<polygon fill=\"#000000\" stroke=\"#000000\" points=\"384.3694,-479.6062 385.9505,-469.13 378.1815,-476.3337 384.3694,-479.6062\"/>\n</g>\n<!-- 12 -->\n<g id=\"node13\" class=\"node\">\n<title>12</title>\n<polygon fill=\"none\" stroke=\"#000000\" points=\"395,-365 291,-365 291,-297 395,-297 395,-365\"/>\n<text text-anchor=\"middle\" x=\"343\" y=\"-349.8\" font-family=\"Times,serif\" font-size=\"14.00\" fill=\"#000000\">age &lt;= 69.1</text>\n<text text-anchor=\"middle\" x=\"343\" y=\"-334.8\" font-family=\"Times,serif\" font-size=\"14.00\" fill=\"#000000\">mse = 5.537</text>\n<text text-anchor=\"middle\" x=\"343\" y=\"-319.8\" font-family=\"Times,serif\" font-size=\"14.00\" fill=\"#000000\">samples = 79</text>\n<text text-anchor=\"middle\" x=\"343\" y=\"-304.8\" font-family=\"Times,serif\" font-size=\"14.00\" fill=\"#000000\">value = 19.997</text>\n</g>\n<!-- 11&#45;&gt;12 -->\n<g id=\"edge12\" class=\"edge\">\n<title>11&#45;&gt;12</title>\n<path fill=\"none\" stroke=\"#000000\" d=\"M384.0263,-400.9465C378.9707,-392.3271 373.4753,-382.9579 368.1983,-373.9611\"/>\n<polygon fill=\"#000000\" stroke=\"#000000\" points=\"371.0969,-371.985 363.0186,-365.13 365.0589,-375.5265 371.0969,-371.985\"/>\n</g>\n<!-- 19 -->\n<g id=\"node20\" class=\"node\">\n<title>19</title>\n<polygon fill=\"none\" stroke=\"#000000\" points=\"517,-365 413,-365 413,-297 517,-297 517,-365\"/>\n<text text-anchor=\"middle\" x=\"465\" y=\"-349.8\" font-family=\"Times,serif\" font-size=\"14.00\" fill=\"#000000\">lstat &lt;= 9.98</text>\n<text text-anchor=\"middle\" x=\"465\" y=\"-334.8\" font-family=\"Times,serif\" font-size=\"14.00\" fill=\"#000000\">mse = 4.744</text>\n<text text-anchor=\"middle\" x=\"465\" y=\"-319.8\" font-family=\"Times,serif\" font-size=\"14.00\" fill=\"#000000\">samples = 68</text>\n<text text-anchor=\"middle\" x=\"465\" y=\"-304.8\" font-family=\"Times,serif\" font-size=\"14.00\" fill=\"#000000\">value = 21.659</text>\n</g>\n<!-- 11&#45;&gt;19 -->\n<g id=\"edge19\" class=\"edge\">\n<title>11&#45;&gt;19</title>\n<path fill=\"none\" stroke=\"#000000\" d=\"M423.9737,-400.9465C429.0293,-392.3271 434.5247,-382.9579 439.8017,-373.9611\"/>\n<polygon fill=\"#000000\" stroke=\"#000000\" points=\"442.9411,-375.5265 444.9814,-365.13 436.9031,-371.985 442.9411,-375.5265\"/>\n</g>\n<!-- 13 -->\n<g id=\"node14\" class=\"node\">\n<title>13</title>\n<polygon fill=\"none\" stroke=\"#000000\" points=\"273,-261 169,-261 169,-193 273,-193 273,-261\"/>\n<text text-anchor=\"middle\" x=\"221\" y=\"-245.8\" font-family=\"Times,serif\" font-size=\"14.00\" fill=\"#000000\">dis &lt;= 4.464</text>\n<text text-anchor=\"middle\" x=\"221\" y=\"-230.8\" font-family=\"Times,serif\" font-size=\"14.00\" fill=\"#000000\">mse = 3.664</text>\n<text text-anchor=\"middle\" x=\"221\" y=\"-215.8\" font-family=\"Times,serif\" font-size=\"14.00\" fill=\"#000000\">samples = 55</text>\n<text text-anchor=\"middle\" x=\"221\" y=\"-200.8\" font-family=\"Times,serif\" font-size=\"14.00\" fill=\"#000000\">value = 20.513</text>\n</g>\n<!-- 12&#45;&gt;13 -->\n<g id=\"edge13\" class=\"edge\">\n<title>12&#45;&gt;13</title>\n<path fill=\"none\" stroke=\"#000000\" d=\"M303.0526,-296.9465C292.0988,-287.6088 280.1127,-277.3911 268.768,-267.7203\"/>\n<polygon fill=\"#000000\" stroke=\"#000000\" points=\"270.9179,-264.9538 261.0371,-261.13 266.3767,-270.2809 270.9179,-264.9538\"/>\n</g>\n<!-- 18 -->\n<g id=\"node19\" class=\"node\">\n<title>18</title>\n<polygon fill=\"none\" stroke=\"#000000\" points=\"395,-253.5 291,-253.5 291,-200.5 395,-200.5 395,-253.5\"/>\n<text text-anchor=\"middle\" x=\"343\" y=\"-238.3\" font-family=\"Times,serif\" font-size=\"14.00\" fill=\"#000000\">mse = 7.826</text>\n<text text-anchor=\"middle\" x=\"343\" y=\"-223.3\" font-family=\"Times,serif\" font-size=\"14.00\" fill=\"#000000\">samples = 24</text>\n<text text-anchor=\"middle\" x=\"343\" y=\"-208.3\" font-family=\"Times,serif\" font-size=\"14.00\" fill=\"#000000\">value = 18.817</text>\n</g>\n<!-- 12&#45;&gt;18 -->\n<g id=\"edge18\" class=\"edge\">\n<title>12&#45;&gt;18</title>\n<path fill=\"none\" stroke=\"#000000\" d=\"M343,-296.9465C343,-286.2621 343,-274.4254 343,-263.5742\"/>\n<polygon fill=\"#000000\" stroke=\"#000000\" points=\"346.5001,-263.5421 343,-253.5422 339.5001,-263.5422 346.5001,-263.5421\"/>\n</g>\n<!-- 14 -->\n<g id=\"node15\" class=\"node\">\n<title>14</title>\n<polygon fill=\"none\" stroke=\"#000000\" points=\"189,-149.5 85,-149.5 85,-96.5 189,-96.5 189,-149.5\"/>\n<text text-anchor=\"middle\" x=\"137\" y=\"-134.3\" font-family=\"Times,serif\" font-size=\"14.00\" fill=\"#000000\">mse = 3.847</text>\n<text text-anchor=\"middle\" x=\"137\" y=\"-119.3\" font-family=\"Times,serif\" font-size=\"14.00\" fill=\"#000000\">samples = 23</text>\n<text text-anchor=\"middle\" x=\"137\" y=\"-104.3\" font-family=\"Times,serif\" font-size=\"14.00\" fill=\"#000000\">value = 21.465</text>\n</g>\n<!-- 13&#45;&gt;14 -->\n<g id=\"edge14\" class=\"edge\">\n<title>13&#45;&gt;14</title>\n<path fill=\"none\" stroke=\"#000000\" d=\"M193.4953,-192.9465C184.3317,-181.6012 174.1189,-168.9567 164.9239,-157.5724\"/>\n<polygon fill=\"#000000\" stroke=\"#000000\" points=\"167.4441,-155.1224 158.4379,-149.5422 161.9985,-159.5208 167.4441,-155.1224\"/>\n</g>\n<!-- 15 -->\n<g id=\"node16\" class=\"node\">\n<title>15</title>\n<polygon fill=\"none\" stroke=\"#000000\" points=\"311,-157 207,-157 207,-89 311,-89 311,-157\"/>\n<text text-anchor=\"middle\" x=\"259\" y=\"-141.8\" font-family=\"Times,serif\" font-size=\"14.00\" fill=\"#000000\">rm &lt;= 5.763</text>\n<text text-anchor=\"middle\" x=\"259\" y=\"-126.8\" font-family=\"Times,serif\" font-size=\"14.00\" fill=\"#000000\">mse = 2.411</text>\n<text text-anchor=\"middle\" x=\"259\" y=\"-111.8\" font-family=\"Times,serif\" font-size=\"14.00\" fill=\"#000000\">samples = 32</text>\n<text text-anchor=\"middle\" x=\"259\" y=\"-96.8\" font-family=\"Times,serif\" font-size=\"14.00\" fill=\"#000000\">value = 19.828</text>\n</g>\n<!-- 13&#45;&gt;15 -->\n<g id=\"edge15\" class=\"edge\">\n<title>13&#45;&gt;15</title>\n<path fill=\"none\" stroke=\"#000000\" d=\"M233.4426,-192.9465C236.5264,-184.5067 239.8729,-175.3479 243.097,-166.5239\"/>\n<polygon fill=\"#000000\" stroke=\"#000000\" points=\"246.3849,-167.7238 246.5294,-157.13 239.81,-165.3215 246.3849,-167.7238\"/>\n</g>\n<!-- 16 -->\n<g id=\"node17\" class=\"node\">\n<title>16</title>\n<polygon fill=\"none\" stroke=\"#000000\" points=\"262.5,-53 165.5,-53 165.5,0 262.5,0 262.5,-53\"/>\n<text text-anchor=\"middle\" x=\"214\" y=\"-37.8\" font-family=\"Times,serif\" font-size=\"14.00\" fill=\"#000000\">mse = 0.658</text>\n<text text-anchor=\"middle\" x=\"214\" y=\"-22.8\" font-family=\"Times,serif\" font-size=\"14.00\" fill=\"#000000\">samples = 5</text>\n<text text-anchor=\"middle\" x=\"214\" y=\"-7.8\" font-family=\"Times,serif\" font-size=\"14.00\" fill=\"#000000\">value = 18.14</text>\n</g>\n<!-- 15&#45;&gt;16 -->\n<g id=\"edge16\" class=\"edge\">\n<title>15&#45;&gt;16</title>\n<path fill=\"none\" stroke=\"#000000\" d=\"M243.1347,-88.9777C239.1208,-80.3702 234.7975,-71.0992 230.7419,-62.402\"/>\n<polygon fill=\"#000000\" stroke=\"#000000\" points=\"233.8718,-60.8323 226.4734,-53.2485 227.5277,-63.7907 233.8718,-60.8323\"/>\n</g>\n<!-- 17 -->\n<g id=\"node18\" class=\"node\">\n<title>17</title>\n<polygon fill=\"none\" stroke=\"#000000\" points=\"385,-53 281,-53 281,0 385,0 385,-53\"/>\n<text text-anchor=\"middle\" x=\"333\" y=\"-37.8\" font-family=\"Times,serif\" font-size=\"14.00\" fill=\"#000000\">mse = 2.11</text>\n<text text-anchor=\"middle\" x=\"333\" y=\"-22.8\" font-family=\"Times,serif\" font-size=\"14.00\" fill=\"#000000\">samples = 27</text>\n<text text-anchor=\"middle\" x=\"333\" y=\"-7.8\" font-family=\"Times,serif\" font-size=\"14.00\" fill=\"#000000\">value = 20.141</text>\n</g>\n<!-- 15&#45;&gt;17 -->\n<g id=\"edge17\" class=\"edge\">\n<title>15&#45;&gt;17</title>\n<path fill=\"none\" stroke=\"#000000\" d=\"M285.0896,-88.9777C291.9711,-80.0039 299.4056,-70.3089 306.3178,-61.295\"/>\n<polygon fill=\"#000000\" stroke=\"#000000\" points=\"309.1804,-63.3137 312.4882,-53.2485 303.6256,-59.0541 309.1804,-63.3137\"/>\n</g>\n<!-- 20 -->\n<g id=\"node21\" class=\"node\">\n<title>20</title>\n<polygon fill=\"none\" stroke=\"#000000\" points=\"517,-253.5 413,-253.5 413,-200.5 517,-200.5 517,-253.5\"/>\n<text text-anchor=\"middle\" x=\"465\" y=\"-238.3\" font-family=\"Times,serif\" font-size=\"14.00\" fill=\"#000000\">mse = 5.482</text>\n<text text-anchor=\"middle\" x=\"465\" y=\"-223.3\" font-family=\"Times,serif\" font-size=\"14.00\" fill=\"#000000\">samples = 24</text>\n<text text-anchor=\"middle\" x=\"465\" y=\"-208.3\" font-family=\"Times,serif\" font-size=\"14.00\" fill=\"#000000\">value = 22.921</text>\n</g>\n<!-- 19&#45;&gt;20 -->\n<g id=\"edge20\" class=\"edge\">\n<title>19&#45;&gt;20</title>\n<path fill=\"none\" stroke=\"#000000\" d=\"M465,-296.9465C465,-286.2621 465,-274.4254 465,-263.5742\"/>\n<polygon fill=\"#000000\" stroke=\"#000000\" points=\"468.5001,-263.5421 465,-253.5422 461.5001,-263.5422 468.5001,-263.5421\"/>\n</g>\n<!-- 21 -->\n<g id=\"node22\" class=\"node\">\n<title>21</title>\n<polygon fill=\"none\" stroke=\"#000000\" points=\"632.5,-261 535.5,-261 535.5,-193 632.5,-193 632.5,-261\"/>\n<text text-anchor=\"middle\" x=\"584\" y=\"-245.8\" font-family=\"Times,serif\" font-size=\"14.00\" fill=\"#000000\">rm &lt;= 6.404</text>\n<text text-anchor=\"middle\" x=\"584\" y=\"-230.8\" font-family=\"Times,serif\" font-size=\"14.00\" fill=\"#000000\">mse = 2.998</text>\n<text text-anchor=\"middle\" x=\"584\" y=\"-215.8\" font-family=\"Times,serif\" font-size=\"14.00\" fill=\"#000000\">samples = 44</text>\n<text text-anchor=\"middle\" x=\"584\" y=\"-200.8\" font-family=\"Times,serif\" font-size=\"14.00\" fill=\"#000000\">value = 20.97</text>\n</g>\n<!-- 19&#45;&gt;21 -->\n<g id=\"edge21\" class=\"edge\">\n<title>19&#45;&gt;21</title>\n<path fill=\"none\" stroke=\"#000000\" d=\"M503.9651,-296.9465C514.6495,-287.6088 526.3409,-277.3911 537.4066,-267.7203\"/>\n<polygon fill=\"#000000\" stroke=\"#000000\" points=\"539.7209,-270.346 544.9474,-261.13 535.1145,-265.0752 539.7209,-270.346\"/>\n</g>\n<!-- 22 -->\n<g id=\"node23\" class=\"node\">\n<title>22</title>\n<polygon fill=\"none\" stroke=\"#000000\" points=\"606,-157 502,-157 502,-89 606,-89 606,-157\"/>\n<text text-anchor=\"middle\" x=\"554\" y=\"-141.8\" font-family=\"Times,serif\" font-size=\"14.00\" fill=\"#000000\">rm &lt;= 6.318</text>\n<text text-anchor=\"middle\" x=\"554\" y=\"-126.8\" font-family=\"Times,serif\" font-size=\"14.00\" fill=\"#000000\">mse = 2.228</text>\n<text text-anchor=\"middle\" x=\"554\" y=\"-111.8\" font-family=\"Times,serif\" font-size=\"14.00\" fill=\"#000000\">samples = 37</text>\n<text text-anchor=\"middle\" x=\"554\" y=\"-96.8\" font-family=\"Times,serif\" font-size=\"14.00\" fill=\"#000000\">value = 21.276</text>\n</g>\n<!-- 21&#45;&gt;22 -->\n<g id=\"edge22\" class=\"edge\">\n<title>21&#45;&gt;22</title>\n<path fill=\"none\" stroke=\"#000000\" d=\"M574.1769,-192.9465C571.7682,-184.5965 569.1566,-175.5427 566.6362,-166.8056\"/>\n<polygon fill=\"#000000\" stroke=\"#000000\" points=\"569.9798,-165.7681 563.8452,-157.13 563.254,-167.7083 569.9798,-165.7681\"/>\n</g>\n<!-- 25 -->\n<g id=\"node26\" class=\"node\">\n<title>25</title>\n<polygon fill=\"none\" stroke=\"#000000\" points=\"728,-149.5 624,-149.5 624,-96.5 728,-96.5 728,-149.5\"/>\n<text text-anchor=\"middle\" x=\"676\" y=\"-134.3\" font-family=\"Times,serif\" font-size=\"14.00\" fill=\"#000000\">mse = 3.971</text>\n<text text-anchor=\"middle\" x=\"676\" y=\"-119.3\" font-family=\"Times,serif\" font-size=\"14.00\" fill=\"#000000\">samples = 7</text>\n<text text-anchor=\"middle\" x=\"676\" y=\"-104.3\" font-family=\"Times,serif\" font-size=\"14.00\" fill=\"#000000\">value = 19.357</text>\n</g>\n<!-- 21&#45;&gt;25 -->\n<g id=\"edge25\" class=\"edge\">\n<title>21&#45;&gt;25</title>\n<path fill=\"none\" stroke=\"#000000\" d=\"M614.1242,-192.9465C624.258,-181.491 635.5633,-168.711 645.7097,-157.2412\"/>\n<polygon fill=\"#000000\" stroke=\"#000000\" points=\"648.5161,-159.3512 652.5204,-149.5422 643.2731,-154.7131 648.5161,-159.3512\"/>\n</g>\n<!-- 23 -->\n<g id=\"node24\" class=\"node\">\n<title>23</title>\n<polygon fill=\"none\" stroke=\"#000000\" points=\"568,-53 464,-53 464,0 568,0 568,-53\"/>\n<text text-anchor=\"middle\" x=\"516\" y=\"-37.8\" font-family=\"Times,serif\" font-size=\"14.00\" fill=\"#000000\">mse = 1.69</text>\n<text text-anchor=\"middle\" x=\"516\" y=\"-22.8\" font-family=\"Times,serif\" font-size=\"14.00\" fill=\"#000000\">samples = 28</text>\n<text text-anchor=\"middle\" x=\"516\" y=\"-7.8\" font-family=\"Times,serif\" font-size=\"14.00\" fill=\"#000000\">value = 20.861</text>\n</g>\n<!-- 22&#45;&gt;23 -->\n<g id=\"edge23\" class=\"edge\">\n<title>22&#45;&gt;23</title>\n<path fill=\"none\" stroke=\"#000000\" d=\"M540.6026,-88.9777C537.2492,-80.4617 533.64,-71.2963 530.247,-62.6798\"/>\n<polygon fill=\"#000000\" stroke=\"#000000\" points=\"533.4537,-61.2707 526.5331,-53.2485 526.9405,-63.8355 533.4537,-61.2707\"/>\n</g>\n<!-- 24 -->\n<g id=\"node25\" class=\"node\">\n<title>24</title>\n<polygon fill=\"none\" stroke=\"#000000\" points=\"690,-53 586,-53 586,0 690,0 690,-53\"/>\n<text text-anchor=\"middle\" x=\"638\" y=\"-37.8\" font-family=\"Times,serif\" font-size=\"14.00\" fill=\"#000000\">mse = 1.7</text>\n<text text-anchor=\"middle\" x=\"638\" y=\"-22.8\" font-family=\"Times,serif\" font-size=\"14.00\" fill=\"#000000\">samples = 9</text>\n<text text-anchor=\"middle\" x=\"638\" y=\"-7.8\" font-family=\"Times,serif\" font-size=\"14.00\" fill=\"#000000\">value = 22.567</text>\n</g>\n<!-- 22&#45;&gt;24 -->\n<g id=\"edge24\" class=\"edge\">\n<title>22&#45;&gt;24</title>\n<path fill=\"none\" stroke=\"#000000\" d=\"M583.6153,-88.9777C591.5064,-79.9123 600.0381,-70.111 607.9522,-61.0192\"/>\n<polygon fill=\"#000000\" stroke=\"#000000\" points=\"610.7906,-63.0892 614.7164,-53.2485 605.5107,-58.4932 610.7906,-63.0892\"/>\n</g>\n<!-- 27 -->\n<g id=\"node28\" class=\"node\">\n<title>27</title>\n<polygon fill=\"none\" stroke=\"#000000\" points=\"551,-565.5 447,-565.5 447,-512.5 551,-512.5 551,-565.5\"/>\n<text text-anchor=\"middle\" x=\"499\" y=\"-550.3\" font-family=\"Times,serif\" font-size=\"14.00\" fill=\"#000000\">mse = 5.38</text>\n<text text-anchor=\"middle\" x=\"499\" y=\"-535.3\" font-family=\"Times,serif\" font-size=\"14.00\" fill=\"#000000\">samples = 17</text>\n<text text-anchor=\"middle\" x=\"499\" y=\"-520.3\" font-family=\"Times,serif\" font-size=\"14.00\" fill=\"#000000\">value = 30.241</text>\n</g>\n<!-- 26&#45;&gt;27 -->\n<g id=\"edge27\" class=\"edge\">\n<title>26&#45;&gt;27</title>\n<path fill=\"none\" stroke=\"#000000\" d=\"M517.1592,-608.9465C514.3567,-598.1519 511.249,-586.1813 508.4082,-575.2389\"/>\n<polygon fill=\"#000000\" stroke=\"#000000\" points=\"511.7914,-574.3418 505.8908,-565.5422 505.016,-576.1008 511.7914,-574.3418\"/>\n</g>\n<!-- 28 -->\n<g id=\"node29\" class=\"node\">\n<title>28</title>\n<polygon fill=\"none\" stroke=\"#000000\" points=\"673,-573 569,-573 569,-505 673,-505 673,-573\"/>\n<text text-anchor=\"middle\" x=\"621\" y=\"-557.8\" font-family=\"Times,serif\" font-size=\"14.00\" fill=\"#000000\">nox &lt;= 0.526</text>\n<text text-anchor=\"middle\" x=\"621\" y=\"-542.8\" font-family=\"Times,serif\" font-size=\"14.00\" fill=\"#000000\">mse = 9.392</text>\n<text text-anchor=\"middle\" x=\"621\" y=\"-527.8\" font-family=\"Times,serif\" font-size=\"14.00\" fill=\"#000000\">samples = 38</text>\n<text text-anchor=\"middle\" x=\"621\" y=\"-512.8\" font-family=\"Times,serif\" font-size=\"14.00\" fill=\"#000000\">value = 26.168</text>\n</g>\n<!-- 26&#45;&gt;28 -->\n<g id=\"edge28\" class=\"edge\">\n<title>26&#45;&gt;28</title>\n<path fill=\"none\" stroke=\"#000000\" d=\"M557.1066,-608.9465C565.3901,-599.8782 574.4318,-589.9799 583.0379,-580.5585\"/>\n<polygon fill=\"#000000\" stroke=\"#000000\" points=\"585.6633,-582.8739 589.8236,-573.13 580.495,-578.1528 585.6633,-582.8739\"/>\n</g>\n<!-- 29 -->\n<g id=\"node30\" class=\"node\">\n<title>29</title>\n<polygon fill=\"none\" stroke=\"#000000\" points=\"578,-461.5 474,-461.5 474,-408.5 578,-408.5 578,-461.5\"/>\n<text text-anchor=\"middle\" x=\"526\" y=\"-446.3\" font-family=\"Times,serif\" font-size=\"14.00\" fill=\"#000000\">mse = 8.024</text>\n<text text-anchor=\"middle\" x=\"526\" y=\"-431.3\" font-family=\"Times,serif\" font-size=\"14.00\" fill=\"#000000\">samples = 29</text>\n<text text-anchor=\"middle\" x=\"526\" y=\"-416.3\" font-family=\"Times,serif\" font-size=\"14.00\" fill=\"#000000\">value = 27.007</text>\n</g>\n<!-- 28&#45;&gt;29 -->\n<g id=\"edge29\" class=\"edge\">\n<title>28&#45;&gt;29</title>\n<path fill=\"none\" stroke=\"#000000\" d=\"M589.8934,-504.9465C579.4293,-493.491 567.7553,-480.711 557.278,-469.2412\"/>\n<polygon fill=\"#000000\" stroke=\"#000000\" points=\"559.5738,-466.565 550.2452,-461.5422 554.4055,-471.2861 559.5738,-466.565\"/>\n</g>\n<!-- 30 -->\n<g id=\"node31\" class=\"node\">\n<title>30</title>\n<polygon fill=\"none\" stroke=\"#000000\" points=\"700,-461.5 596,-461.5 596,-408.5 700,-408.5 700,-461.5\"/>\n<text text-anchor=\"middle\" x=\"648\" y=\"-446.3\" font-family=\"Times,serif\" font-size=\"14.00\" fill=\"#000000\">mse = 4.233</text>\n<text text-anchor=\"middle\" x=\"648\" y=\"-431.3\" font-family=\"Times,serif\" font-size=\"14.00\" fill=\"#000000\">samples = 9</text>\n<text text-anchor=\"middle\" x=\"648\" y=\"-416.3\" font-family=\"Times,serif\" font-size=\"14.00\" fill=\"#000000\">value = 23.467</text>\n</g>\n<!-- 28&#45;&gt;30 -->\n<g id=\"edge30\" class=\"edge\">\n<title>28&#45;&gt;30</title>\n<path fill=\"none\" stroke=\"#000000\" d=\"M629.8408,-504.9465C632.6433,-494.1519 635.751,-482.1813 638.5918,-471.2389\"/>\n<polygon fill=\"#000000\" stroke=\"#000000\" points=\"641.984,-472.1008 641.1092,-461.5422 635.2086,-470.3418 641.984,-472.1008\"/>\n</g>\n<!-- 32 -->\n<g id=\"node33\" class=\"node\">\n<title>32</title>\n<polygon fill=\"none\" stroke=\"#000000\" points=\"822,-781 718,-781 718,-713 822,-713 822,-781\"/>\n<text text-anchor=\"middle\" x=\"770\" y=\"-765.8\" font-family=\"Times,serif\" font-size=\"14.00\" fill=\"#000000\">nox &lt;= 0.531</text>\n<text text-anchor=\"middle\" x=\"770\" y=\"-750.8\" font-family=\"Times,serif\" font-size=\"14.00\" fill=\"#000000\">mse = 11.391</text>\n<text text-anchor=\"middle\" x=\"770\" y=\"-735.8\" font-family=\"Times,serif\" font-size=\"14.00\" fill=\"#000000\">samples = 101</text>\n<text text-anchor=\"middle\" x=\"770\" y=\"-720.8\" font-family=\"Times,serif\" font-size=\"14.00\" fill=\"#000000\">value = 17.138</text>\n</g>\n<!-- 31&#45;&gt;32 -->\n<g id=\"edge32\" class=\"edge\">\n<title>31&#45;&gt;32</title>\n<path fill=\"none\" stroke=\"#000000\" d=\"M811.0263,-816.9465C805.9707,-808.3271 800.4753,-798.9579 795.1983,-789.9611\"/>\n<polygon fill=\"#000000\" stroke=\"#000000\" points=\"798.0969,-787.985 790.0186,-781.13 792.0589,-791.5265 798.0969,-787.985\"/>\n</g>\n<!-- 43 -->\n<g id=\"node44\" class=\"node\">\n<title>43</title>\n<polygon fill=\"none\" stroke=\"#000000\" points=\"944,-781 840,-781 840,-713 944,-713 944,-781\"/>\n<text text-anchor=\"middle\" x=\"892\" y=\"-765.8\" font-family=\"Times,serif\" font-size=\"14.00\" fill=\"#000000\">nox &lt;= 0.606</text>\n<text text-anchor=\"middle\" x=\"892\" y=\"-750.8\" font-family=\"Times,serif\" font-size=\"14.00\" fill=\"#000000\">mse = 14.674</text>\n<text text-anchor=\"middle\" x=\"892\" y=\"-735.8\" font-family=\"Times,serif\" font-size=\"14.00\" fill=\"#000000\">samples = 74</text>\n<text text-anchor=\"middle\" x=\"892\" y=\"-720.8\" font-family=\"Times,serif\" font-size=\"14.00\" fill=\"#000000\">value = 11.978</text>\n</g>\n<!-- 31&#45;&gt;43 -->\n<g id=\"edge43\" class=\"edge\">\n<title>31&#45;&gt;43</title>\n<path fill=\"none\" stroke=\"#000000\" d=\"M850.9737,-816.9465C856.0293,-808.3271 861.5247,-798.9579 866.8017,-789.9611\"/>\n<polygon fill=\"#000000\" stroke=\"#000000\" points=\"869.9411,-791.5265 871.9814,-781.13 863.9031,-787.985 869.9411,-791.5265\"/>\n</g>\n<!-- 33 -->\n<g id=\"node34\" class=\"node\">\n<title>33</title>\n<polygon fill=\"none\" stroke=\"#000000\" points=\"700,-669.5 596,-669.5 596,-616.5 700,-616.5 700,-669.5\"/>\n<text text-anchor=\"middle\" x=\"648\" y=\"-654.3\" font-family=\"Times,serif\" font-size=\"14.00\" fill=\"#000000\">mse = 9.016</text>\n<text text-anchor=\"middle\" x=\"648\" y=\"-639.3\" font-family=\"Times,serif\" font-size=\"14.00\" fill=\"#000000\">samples = 24</text>\n<text text-anchor=\"middle\" x=\"648\" y=\"-624.3\" font-family=\"Times,serif\" font-size=\"14.00\" fill=\"#000000\">value = 20.021</text>\n</g>\n<!-- 32&#45;&gt;33 -->\n<g id=\"edge33\" class=\"edge\">\n<title>32&#45;&gt;33</title>\n<path fill=\"none\" stroke=\"#000000\" d=\"M730.0526,-712.9465C716.2268,-701.1606 700.7564,-687.9726 687.0071,-676.2519\"/>\n<polygon fill=\"#000000\" stroke=\"#000000\" points=\"689.0168,-673.366 679.136,-669.5422 684.4756,-678.6931 689.0168,-673.366\"/>\n</g>\n<!-- 34 -->\n<g id=\"node35\" class=\"node\">\n<title>34</title>\n<polygon fill=\"none\" stroke=\"#000000\" points=\"822,-677 718,-677 718,-609 822,-609 822,-677\"/>\n<text text-anchor=\"middle\" x=\"770\" y=\"-661.8\" font-family=\"Times,serif\" font-size=\"14.00\" fill=\"#000000\">lstat &lt;= 18.885</text>\n<text text-anchor=\"middle\" x=\"770\" y=\"-646.8\" font-family=\"Times,serif\" font-size=\"14.00\" fill=\"#000000\">mse = 8.733</text>\n<text text-anchor=\"middle\" x=\"770\" y=\"-631.8\" font-family=\"Times,serif\" font-size=\"14.00\" fill=\"#000000\">samples = 77</text>\n<text text-anchor=\"middle\" x=\"770\" y=\"-616.8\" font-family=\"Times,serif\" font-size=\"14.00\" fill=\"#000000\">value = 16.239</text>\n</g>\n<!-- 32&#45;&gt;34 -->\n<g id=\"edge34\" class=\"edge\">\n<title>32&#45;&gt;34</title>\n<path fill=\"none\" stroke=\"#000000\" d=\"M770,-712.9465C770,-704.776 770,-695.9318 770,-687.3697\"/>\n<polygon fill=\"#000000\" stroke=\"#000000\" points=\"773.5001,-687.13 770,-677.13 766.5001,-687.13 773.5001,-687.13\"/>\n</g>\n<!-- 35 -->\n<g id=\"node36\" class=\"node\">\n<title>35</title>\n<polygon fill=\"none\" stroke=\"#000000\" points=\"822,-573 718,-573 718,-505 822,-505 822,-573\"/>\n<text text-anchor=\"middle\" x=\"770\" y=\"-557.8\" font-family=\"Times,serif\" font-size=\"14.00\" fill=\"#000000\">age &lt;= 85.2</text>\n<text text-anchor=\"middle\" x=\"770\" y=\"-542.8\" font-family=\"Times,serif\" font-size=\"14.00\" fill=\"#000000\">mse = 5.952</text>\n<text text-anchor=\"middle\" x=\"770\" y=\"-527.8\" font-family=\"Times,serif\" font-size=\"14.00\" fill=\"#000000\">samples = 53</text>\n<text text-anchor=\"middle\" x=\"770\" y=\"-512.8\" font-family=\"Times,serif\" font-size=\"14.00\" fill=\"#000000\">value = 17.234</text>\n</g>\n<!-- 34&#45;&gt;35 -->\n<g id=\"edge35\" class=\"edge\">\n<title>34&#45;&gt;35</title>\n<path fill=\"none\" stroke=\"#000000\" d=\"M770,-608.9465C770,-600.776 770,-591.9318 770,-583.3697\"/>\n<polygon fill=\"#000000\" stroke=\"#000000\" points=\"773.5001,-583.13 770,-573.13 766.5001,-583.13 773.5001,-583.13\"/>\n</g>\n<!-- 42 -->\n<g id=\"node43\" class=\"node\">\n<title>42</title>\n<polygon fill=\"none\" stroke=\"#000000\" points=\"944,-565.5 840,-565.5 840,-512.5 944,-512.5 944,-565.5\"/>\n<text text-anchor=\"middle\" x=\"892\" y=\"-550.3\" font-family=\"Times,serif\" font-size=\"14.00\" fill=\"#000000\">mse = 7.862</text>\n<text text-anchor=\"middle\" x=\"892\" y=\"-535.3\" font-family=\"Times,serif\" font-size=\"14.00\" fill=\"#000000\">samples = 24</text>\n<text text-anchor=\"middle\" x=\"892\" y=\"-520.3\" font-family=\"Times,serif\" font-size=\"14.00\" fill=\"#000000\">value = 14.042</text>\n</g>\n<!-- 34&#45;&gt;42 -->\n<g id=\"edge42\" class=\"edge\">\n<title>34&#45;&gt;42</title>\n<path fill=\"none\" stroke=\"#000000\" d=\"M809.9474,-608.9465C823.7732,-597.1606 839.2436,-583.9726 852.9929,-572.2519\"/>\n<polygon fill=\"#000000\" stroke=\"#000000\" points=\"855.5244,-574.6931 860.864,-565.5422 850.9832,-569.366 855.5244,-574.6931\"/>\n</g>\n<!-- 36 -->\n<g id=\"node37\" class=\"node\">\n<title>36</title>\n<polygon fill=\"none\" stroke=\"#000000\" points=\"822,-461.5 718,-461.5 718,-408.5 822,-408.5 822,-461.5\"/>\n<text text-anchor=\"middle\" x=\"770\" y=\"-446.3\" font-family=\"Times,serif\" font-size=\"14.00\" fill=\"#000000\">mse = 4.531</text>\n<text text-anchor=\"middle\" x=\"770\" y=\"-431.3\" font-family=\"Times,serif\" font-size=\"14.00\" fill=\"#000000\">samples = 12</text>\n<text text-anchor=\"middle\" x=\"770\" y=\"-416.3\" font-family=\"Times,serif\" font-size=\"14.00\" fill=\"#000000\">value = 19.408</text>\n</g>\n<!-- 35&#45;&gt;36 -->\n<g id=\"edge36\" class=\"edge\">\n<title>35&#45;&gt;36</title>\n<path fill=\"none\" stroke=\"#000000\" d=\"M770,-504.9465C770,-494.2621 770,-482.4254 770,-471.5742\"/>\n<polygon fill=\"#000000\" stroke=\"#000000\" points=\"773.5001,-471.5421 770,-461.5422 766.5001,-471.5422 773.5001,-471.5421\"/>\n</g>\n<!-- 37 -->\n<g id=\"node38\" class=\"node\">\n<title>37</title>\n<polygon fill=\"none\" stroke=\"#000000\" points=\"944,-469 840,-469 840,-401 944,-401 944,-469\"/>\n<text text-anchor=\"middle\" x=\"892\" y=\"-453.8\" font-family=\"Times,serif\" font-size=\"14.00\" fill=\"#000000\">tax &lt;= 291.5</text>\n<text text-anchor=\"middle\" x=\"892\" y=\"-438.8\" font-family=\"Times,serif\" font-size=\"14.00\" fill=\"#000000\">mse = 4.579</text>\n<text text-anchor=\"middle\" x=\"892\" y=\"-423.8\" font-family=\"Times,serif\" font-size=\"14.00\" fill=\"#000000\">samples = 41</text>\n<text text-anchor=\"middle\" x=\"892\" y=\"-408.8\" font-family=\"Times,serif\" font-size=\"14.00\" fill=\"#000000\">value = 16.598</text>\n</g>\n<!-- 35&#45;&gt;37 -->\n<g id=\"edge37\" class=\"edge\">\n<title>35&#45;&gt;37</title>\n<path fill=\"none\" stroke=\"#000000\" d=\"M809.9474,-504.9465C820.9012,-495.6088 832.8873,-485.3911 844.232,-475.7203\"/>\n<polygon fill=\"#000000\" stroke=\"#000000\" points=\"846.6233,-478.2809 851.9629,-469.13 842.0821,-472.9538 846.6233,-478.2809\"/>\n</g>\n<!-- 38 -->\n<g id=\"node39\" class=\"node\">\n<title>38</title>\n<polygon fill=\"none\" stroke=\"#000000\" points=\"859.5,-357.5 762.5,-357.5 762.5,-304.5 859.5,-304.5 859.5,-357.5\"/>\n<text text-anchor=\"middle\" x=\"811\" y=\"-342.3\" font-family=\"Times,serif\" font-size=\"14.00\" fill=\"#000000\">mse = 1.173</text>\n<text text-anchor=\"middle\" x=\"811\" y=\"-327.3\" font-family=\"Times,serif\" font-size=\"14.00\" fill=\"#000000\">samples = 4</text>\n<text text-anchor=\"middle\" x=\"811\" y=\"-312.3\" font-family=\"Times,serif\" font-size=\"14.00\" fill=\"#000000\">value = 20.55</text>\n</g>\n<!-- 37&#45;&gt;38 -->\n<g id=\"edge38\" class=\"edge\">\n<title>37&#45;&gt;38</title>\n<path fill=\"none\" stroke=\"#000000\" d=\"M865.4776,-400.9465C856.6413,-389.6012 846.7932,-376.9567 837.9266,-365.5724\"/>\n<polygon fill=\"#000000\" stroke=\"#000000\" points=\"840.5783,-363.281 831.6723,-357.5422 835.0556,-367.5823 840.5783,-363.281\"/>\n</g>\n<!-- 39 -->\n<g id=\"node40\" class=\"node\">\n<title>39</title>\n<polygon fill=\"none\" stroke=\"#000000\" points=\"974.5,-365 877.5,-365 877.5,-297 974.5,-297 974.5,-365\"/>\n<text text-anchor=\"middle\" x=\"926\" y=\"-349.8\" font-family=\"Times,serif\" font-size=\"14.00\" fill=\"#000000\">lstat &lt;= 17.1</text>\n<text text-anchor=\"middle\" x=\"926\" y=\"-334.8\" font-family=\"Times,serif\" font-size=\"14.00\" fill=\"#000000\">mse = 3.076</text>\n<text text-anchor=\"middle\" x=\"926\" y=\"-319.8\" font-family=\"Times,serif\" font-size=\"14.00\" fill=\"#000000\">samples = 37</text>\n<text text-anchor=\"middle\" x=\"926\" y=\"-304.8\" font-family=\"Times,serif\" font-size=\"14.00\" fill=\"#000000\">value = 16.17</text>\n</g>\n<!-- 37&#45;&gt;39 -->\n<g id=\"edge39\" class=\"edge\">\n<title>37&#45;&gt;39</title>\n<path fill=\"none\" stroke=\"#000000\" d=\"M903.1329,-400.9465C905.8627,-392.5965 908.8226,-383.5427 911.6789,-374.8056\"/>\n<polygon fill=\"#000000\" stroke=\"#000000\" points=\"915.0614,-375.7226 914.8421,-365.13 908.4079,-373.5473 915.0614,-375.7226\"/>\n</g>\n<!-- 40 -->\n<g id=\"node41\" class=\"node\">\n<title>40</title>\n<polygon fill=\"none\" stroke=\"#000000\" points=\"914,-253.5 822,-253.5 822,-200.5 914,-200.5 914,-253.5\"/>\n<text text-anchor=\"middle\" x=\"868\" y=\"-238.3\" font-family=\"Times,serif\" font-size=\"14.00\" fill=\"#000000\">mse = 2.72</text>\n<text text-anchor=\"middle\" x=\"868\" y=\"-223.3\" font-family=\"Times,serif\" font-size=\"14.00\" fill=\"#000000\">samples = 21</text>\n<text text-anchor=\"middle\" x=\"868\" y=\"-208.3\" font-family=\"Times,serif\" font-size=\"14.00\" fill=\"#000000\">value = 17.0</text>\n</g>\n<!-- 39&#45;&gt;40 -->\n<g id=\"edge40\" class=\"edge\">\n<title>39&#45;&gt;40</title>\n<path fill=\"none\" stroke=\"#000000\" d=\"M907.0086,-296.9465C900.8657,-285.9316 894.0399,-273.6922 887.8373,-262.5703\"/>\n<polygon fill=\"#000000\" stroke=\"#000000\" points=\"890.7299,-260.5711 882.8024,-253.5422 884.6163,-263.9806 890.7299,-260.5711\"/>\n</g>\n<!-- 41 -->\n<g id=\"node42\" class=\"node\">\n<title>41</title>\n<polygon fill=\"none\" stroke=\"#000000\" points=\"1036,-253.5 932,-253.5 932,-200.5 1036,-200.5 1036,-253.5\"/>\n<text text-anchor=\"middle\" x=\"984\" y=\"-238.3\" font-family=\"Times,serif\" font-size=\"14.00\" fill=\"#000000\">mse = 1.453</text>\n<text text-anchor=\"middle\" x=\"984\" y=\"-223.3\" font-family=\"Times,serif\" font-size=\"14.00\" fill=\"#000000\">samples = 16</text>\n<text text-anchor=\"middle\" x=\"984\" y=\"-208.3\" font-family=\"Times,serif\" font-size=\"14.00\" fill=\"#000000\">value = 15.081</text>\n</g>\n<!-- 39&#45;&gt;41 -->\n<g id=\"edge41\" class=\"edge\">\n<title>39&#45;&gt;41</title>\n<path fill=\"none\" stroke=\"#000000\" d=\"M944.9914,-296.9465C951.1343,-285.9316 957.9601,-273.6922 964.1627,-262.5703\"/>\n<polygon fill=\"#000000\" stroke=\"#000000\" points=\"967.3837,-263.9806 969.1976,-253.5422 961.2701,-260.5711 967.3837,-263.9806\"/>\n</g>\n<!-- 44 -->\n<g id=\"node45\" class=\"node\">\n<title>44</title>\n<polygon fill=\"none\" stroke=\"#000000\" points=\"944,-669.5 840,-669.5 840,-616.5 944,-616.5 944,-669.5\"/>\n<text text-anchor=\"middle\" x=\"892\" y=\"-654.3\" font-family=\"Times,serif\" font-size=\"14.00\" fill=\"#000000\">mse = 18.606</text>\n<text text-anchor=\"middle\" x=\"892\" y=\"-639.3\" font-family=\"Times,serif\" font-size=\"14.00\" fill=\"#000000\">samples = 12</text>\n<text text-anchor=\"middle\" x=\"892\" y=\"-624.3\" font-family=\"Times,serif\" font-size=\"14.00\" fill=\"#000000\">value = 16.633</text>\n</g>\n<!-- 43&#45;&gt;44 -->\n<g id=\"edge44\" class=\"edge\">\n<title>43&#45;&gt;44</title>\n<path fill=\"none\" stroke=\"#000000\" d=\"M892,-712.9465C892,-702.2621 892,-690.4254 892,-679.5742\"/>\n<polygon fill=\"#000000\" stroke=\"#000000\" points=\"895.5001,-679.5421 892,-669.5422 888.5001,-679.5422 895.5001,-679.5421\"/>\n</g>\n<!-- 45 -->\n<g id=\"node46\" class=\"node\">\n<title>45</title>\n<polygon fill=\"none\" stroke=\"#000000\" points=\"1066,-677 962,-677 962,-609 1066,-609 1066,-677\"/>\n<text text-anchor=\"middle\" x=\"1014\" y=\"-661.8\" font-family=\"Times,serif\" font-size=\"14.00\" fill=\"#000000\">lstat &lt;= 19.645</text>\n<text text-anchor=\"middle\" x=\"1014\" y=\"-646.8\" font-family=\"Times,serif\" font-size=\"14.00\" fill=\"#000000\">mse = 8.908</text>\n<text text-anchor=\"middle\" x=\"1014\" y=\"-631.8\" font-family=\"Times,serif\" font-size=\"14.00\" fill=\"#000000\">samples = 62</text>\n<text text-anchor=\"middle\" x=\"1014\" y=\"-616.8\" font-family=\"Times,serif\" font-size=\"14.00\" fill=\"#000000\">value = 11.077</text>\n</g>\n<!-- 43&#45;&gt;45 -->\n<g id=\"edge45\" class=\"edge\">\n<title>43&#45;&gt;45</title>\n<path fill=\"none\" stroke=\"#000000\" d=\"M931.9474,-712.9465C942.9012,-703.6088 954.8873,-693.3911 966.232,-683.7203\"/>\n<polygon fill=\"#000000\" stroke=\"#000000\" points=\"968.6233,-686.2809 973.9629,-677.13 964.0821,-680.9538 968.6233,-686.2809\"/>\n</g>\n<!-- 46 -->\n<g id=\"node47\" class=\"node\">\n<title>46</title>\n<polygon fill=\"none\" stroke=\"#000000\" points=\"1066,-565.5 962,-565.5 962,-512.5 1066,-512.5 1066,-565.5\"/>\n<text text-anchor=\"middle\" x=\"1014\" y=\"-550.3\" font-family=\"Times,serif\" font-size=\"14.00\" fill=\"#000000\">mse = 4.18</text>\n<text text-anchor=\"middle\" x=\"1014\" y=\"-535.3\" font-family=\"Times,serif\" font-size=\"14.00\" fill=\"#000000\">samples = 18</text>\n<text text-anchor=\"middle\" x=\"1014\" y=\"-520.3\" font-family=\"Times,serif\" font-size=\"14.00\" fill=\"#000000\">value = 13.922</text>\n</g>\n<!-- 45&#45;&gt;46 -->\n<g id=\"edge46\" class=\"edge\">\n<title>45&#45;&gt;46</title>\n<path fill=\"none\" stroke=\"#000000\" d=\"M1014,-608.9465C1014,-598.2621 1014,-586.4254 1014,-575.5742\"/>\n<polygon fill=\"#000000\" stroke=\"#000000\" points=\"1017.5001,-575.5421 1014,-565.5422 1010.5001,-575.5422 1017.5001,-575.5421\"/>\n</g>\n<!-- 47 -->\n<g id=\"node48\" class=\"node\">\n<title>47</title>\n<polygon fill=\"none\" stroke=\"#000000\" points=\"1181.5,-573 1084.5,-573 1084.5,-505 1181.5,-505 1181.5,-573\"/>\n<text text-anchor=\"middle\" x=\"1133\" y=\"-557.8\" font-family=\"Times,serif\" font-size=\"14.00\" fill=\"#000000\">nox &lt;= 0.675</text>\n<text text-anchor=\"middle\" x=\"1133\" y=\"-542.8\" font-family=\"Times,serif\" font-size=\"14.00\" fill=\"#000000\">mse = 6.177</text>\n<text text-anchor=\"middle\" x=\"1133\" y=\"-527.8\" font-family=\"Times,serif\" font-size=\"14.00\" fill=\"#000000\">samples = 44</text>\n<text text-anchor=\"middle\" x=\"1133\" y=\"-512.8\" font-family=\"Times,serif\" font-size=\"14.00\" fill=\"#000000\">value = 9.914</text>\n</g>\n<!-- 45&#45;&gt;47 -->\n<g id=\"edge47\" class=\"edge\">\n<title>45&#45;&gt;47</title>\n<path fill=\"none\" stroke=\"#000000\" d=\"M1052.9651,-608.9465C1063.6495,-599.6088 1075.3409,-589.3911 1086.4066,-579.7203\"/>\n<polygon fill=\"#000000\" stroke=\"#000000\" points=\"1088.7209,-582.346 1093.9474,-573.13 1084.1145,-577.0752 1088.7209,-582.346\"/>\n</g>\n<!-- 48 -->\n<g id=\"node49\" class=\"node\">\n<title>48</title>\n<polygon fill=\"none\" stroke=\"#000000\" points=\"1122.5,-461.5 1025.5,-461.5 1025.5,-408.5 1122.5,-408.5 1122.5,-461.5\"/>\n<text text-anchor=\"middle\" x=\"1074\" y=\"-446.3\" font-family=\"Times,serif\" font-size=\"14.00\" fill=\"#000000\">mse = 1.544</text>\n<text text-anchor=\"middle\" x=\"1074\" y=\"-431.3\" font-family=\"Times,serif\" font-size=\"14.00\" fill=\"#000000\">samples = 10</text>\n<text text-anchor=\"middle\" x=\"1074\" y=\"-416.3\" font-family=\"Times,serif\" font-size=\"14.00\" fill=\"#000000\">value = 12.63</text>\n</g>\n<!-- 47&#45;&gt;48 -->\n<g id=\"edge48\" class=\"edge\">\n<title>47&#45;&gt;48</title>\n<path fill=\"none\" stroke=\"#000000\" d=\"M1113.6812,-504.9465C1107.4324,-493.9316 1100.4888,-481.6922 1094.1793,-470.5703\"/>\n<polygon fill=\"#000000\" stroke=\"#000000\" points=\"1097.0362,-468.513 1089.0576,-461.5422 1090.9477,-471.967 1097.0362,-468.513\"/>\n</g>\n<!-- 49 -->\n<g id=\"node50\" class=\"node\">\n<title>49</title>\n<polygon fill=\"none\" stroke=\"#000000\" points=\"1241,-469 1141,-469 1141,-401 1241,-401 1241,-469\"/>\n<text text-anchor=\"middle\" x=\"1191\" y=\"-453.8\" font-family=\"Times,serif\" font-size=\"14.00\" fill=\"#000000\">crim &lt;= 13.24</text>\n<text text-anchor=\"middle\" x=\"1191\" y=\"-438.8\" font-family=\"Times,serif\" font-size=\"14.00\" fill=\"#000000\">mse = 4.731</text>\n<text text-anchor=\"middle\" x=\"1191\" y=\"-423.8\" font-family=\"Times,serif\" font-size=\"14.00\" fill=\"#000000\">samples = 34</text>\n<text text-anchor=\"middle\" x=\"1191\" y=\"-408.8\" font-family=\"Times,serif\" font-size=\"14.00\" fill=\"#000000\">value = 9.115</text>\n</g>\n<!-- 47&#45;&gt;49 -->\n<g id=\"edge49\" class=\"edge\">\n<title>47&#45;&gt;49</title>\n<path fill=\"none\" stroke=\"#000000\" d=\"M1151.9914,-504.9465C1156.7983,-496.3271 1162.0235,-486.9579 1167.0409,-477.9611\"/>\n<polygon fill=\"#000000\" stroke=\"#000000\" points=\"1170.152,-479.5684 1171.966,-469.13 1164.0385,-476.1589 1170.152,-479.5684\"/>\n</g>\n<!-- 50 -->\n<g id=\"node51\" class=\"node\">\n<title>50</title>\n<polygon fill=\"none\" stroke=\"#000000\" points=\"1181.5,-357.5 1084.5,-357.5 1084.5,-304.5 1181.5,-304.5 1181.5,-357.5\"/>\n<text text-anchor=\"middle\" x=\"1133\" y=\"-342.3\" font-family=\"Times,serif\" font-size=\"14.00\" fill=\"#000000\">mse = 3.989</text>\n<text text-anchor=\"middle\" x=\"1133\" y=\"-327.3\" font-family=\"Times,serif\" font-size=\"14.00\" fill=\"#000000\">samples = 15</text>\n<text text-anchor=\"middle\" x=\"1133\" y=\"-312.3\" font-family=\"Times,serif\" font-size=\"14.00\" fill=\"#000000\">value = 10.46</text>\n</g>\n<!-- 49&#45;&gt;50 -->\n<g id=\"edge50\" class=\"edge\">\n<title>49&#45;&gt;50</title>\n<path fill=\"none\" stroke=\"#000000\" d=\"M1172.0086,-400.9465C1165.8657,-389.9316 1159.0399,-377.6922 1152.8373,-366.5703\"/>\n<polygon fill=\"#000000\" stroke=\"#000000\" points=\"1155.7299,-364.5711 1147.8024,-357.5422 1149.6163,-367.9806 1155.7299,-364.5711\"/>\n</g>\n<!-- 51 -->\n<g id=\"node52\" class=\"node\">\n<title>51</title>\n<polygon fill=\"none\" stroke=\"#000000\" points=\"1296.5,-357.5 1199.5,-357.5 1199.5,-304.5 1296.5,-304.5 1296.5,-357.5\"/>\n<text text-anchor=\"middle\" x=\"1248\" y=\"-342.3\" font-family=\"Times,serif\" font-size=\"14.00\" fill=\"#000000\">mse = 2.76</text>\n<text text-anchor=\"middle\" x=\"1248\" y=\"-327.3\" font-family=\"Times,serif\" font-size=\"14.00\" fill=\"#000000\">samples = 19</text>\n<text text-anchor=\"middle\" x=\"1248\" y=\"-312.3\" font-family=\"Times,serif\" font-size=\"14.00\" fill=\"#000000\">value = 8.053</text>\n</g>\n<!-- 49&#45;&gt;51 -->\n<g id=\"edge51\" class=\"edge\">\n<title>49&#45;&gt;51</title>\n<path fill=\"none\" stroke=\"#000000\" d=\"M1209.6639,-400.9465C1215.7009,-389.9316 1222.4091,-377.6922 1228.5047,-366.5703\"/>\n<polygon fill=\"#000000\" stroke=\"#000000\" points=\"1231.7158,-367.9936 1233.4529,-357.5422 1225.5773,-364.6292 1231.7158,-367.9936\"/>\n</g>\n<!-- 53 -->\n<g id=\"node54\" class=\"node\">\n<title>53</title>\n<polygon fill=\"none\" stroke=\"#000000\" points=\"1242,-885 1138,-885 1138,-817 1242,-817 1242,-885\"/>\n<text text-anchor=\"middle\" x=\"1190\" y=\"-869.8\" font-family=\"Times,serif\" font-size=\"14.00\" fill=\"#000000\">crim &lt;= 7.393</text>\n<text text-anchor=\"middle\" x=\"1190\" y=\"-854.8\" font-family=\"Times,serif\" font-size=\"14.00\" fill=\"#000000\">mse = 41.296</text>\n<text text-anchor=\"middle\" x=\"1190\" y=\"-839.8\" font-family=\"Times,serif\" font-size=\"14.00\" fill=\"#000000\">samples = 46</text>\n<text text-anchor=\"middle\" x=\"1190\" y=\"-824.8\" font-family=\"Times,serif\" font-size=\"14.00\" fill=\"#000000\">value = 32.113</text>\n</g>\n<!-- 52&#45;&gt;53 -->\n<g id=\"edge53\" class=\"edge\">\n<title>52&#45;&gt;53</title>\n<path fill=\"none\" stroke=\"#000000\" d=\"M1190,-920.9465C1190,-912.776 1190,-903.9318 1190,-895.3697\"/>\n<polygon fill=\"#000000\" stroke=\"#000000\" points=\"1193.5001,-895.13 1190,-885.13 1186.5001,-895.13 1193.5001,-895.13\"/>\n</g>\n<!-- 60 -->\n<g id=\"node61\" class=\"node\">\n<title>60</title>\n<polygon fill=\"none\" stroke=\"#000000\" points=\"1418,-885 1314,-885 1314,-817 1418,-817 1418,-885\"/>\n<text text-anchor=\"middle\" x=\"1366\" y=\"-869.8\" font-family=\"Times,serif\" font-size=\"14.00\" fill=\"#000000\">ptratio &lt;= 18.3</text>\n<text text-anchor=\"middle\" x=\"1366\" y=\"-854.8\" font-family=\"Times,serif\" font-size=\"14.00\" fill=\"#000000\">mse = 36.628</text>\n<text text-anchor=\"middle\" x=\"1366\" y=\"-839.8\" font-family=\"Times,serif\" font-size=\"14.00\" fill=\"#000000\">samples = 30</text>\n<text text-anchor=\"middle\" x=\"1366\" y=\"-824.8\" font-family=\"Times,serif\" font-size=\"14.00\" fill=\"#000000\">value = 45.097</text>\n</g>\n<!-- 52&#45;&gt;60 -->\n<g id=\"edge60\" class=\"edge\">\n<title>52&#45;&gt;60</title>\n<path fill=\"none\" stroke=\"#000000\" d=\"M1242.3293,-924.0782C1262.1009,-912.3949 1284.7644,-899.0028 1305.2439,-886.9013\"/>\n<polygon fill=\"#000000\" stroke=\"#000000\" points=\"1307.0436,-889.9033 1313.8723,-881.8027 1303.4825,-883.8768 1307.0436,-889.9033\"/>\n</g>\n<!-- 54 -->\n<g id=\"node55\" class=\"node\">\n<title>54</title>\n<polygon fill=\"none\" stroke=\"#000000\" points=\"1188,-781 1084,-781 1084,-713 1188,-713 1188,-781\"/>\n<text text-anchor=\"middle\" x=\"1136\" y=\"-765.8\" font-family=\"Times,serif\" font-size=\"14.00\" fill=\"#000000\">dis &lt;= 1.912</text>\n<text text-anchor=\"middle\" x=\"1136\" y=\"-750.8\" font-family=\"Times,serif\" font-size=\"14.00\" fill=\"#000000\">mse = 20.111</text>\n<text text-anchor=\"middle\" x=\"1136\" y=\"-735.8\" font-family=\"Times,serif\" font-size=\"14.00\" fill=\"#000000\">samples = 43</text>\n<text text-anchor=\"middle\" x=\"1136\" y=\"-720.8\" font-family=\"Times,serif\" font-size=\"14.00\" fill=\"#000000\">value = 33.349</text>\n</g>\n<!-- 53&#45;&gt;54 -->\n<g id=\"edge54\" class=\"edge\">\n<title>53&#45;&gt;54</title>\n<path fill=\"none\" stroke=\"#000000\" d=\"M1172.3184,-816.9465C1167.8895,-808.4169 1163.0794,-799.153 1158.4528,-790.2424\"/>\n<polygon fill=\"#000000\" stroke=\"#000000\" points=\"1161.4358,-788.3921 1153.7213,-781.13 1155.2233,-791.6178 1161.4358,-788.3921\"/>\n</g>\n<!-- 59 -->\n<g id=\"node60\" class=\"node\">\n<title>59</title>\n<polygon fill=\"none\" stroke=\"#000000\" points=\"1295.5,-773.5 1206.5,-773.5 1206.5,-720.5 1295.5,-720.5 1295.5,-773.5\"/>\n<text text-anchor=\"middle\" x=\"1251\" y=\"-758.3\" font-family=\"Times,serif\" font-size=\"14.00\" fill=\"#000000\">mse = 9.307</text>\n<text text-anchor=\"middle\" x=\"1251\" y=\"-743.3\" font-family=\"Times,serif\" font-size=\"14.00\" fill=\"#000000\">samples = 3</text>\n<text text-anchor=\"middle\" x=\"1251\" y=\"-728.3\" font-family=\"Times,serif\" font-size=\"14.00\" fill=\"#000000\">value = 14.4</text>\n</g>\n<!-- 53&#45;&gt;59 -->\n<g id=\"edge59\" class=\"edge\">\n<title>53&#45;&gt;59</title>\n<path fill=\"none\" stroke=\"#000000\" d=\"M1209.9737,-816.9465C1216.499,-805.8215 1223.7569,-793.4473 1230.3322,-782.237\"/>\n<polygon fill=\"#000000\" stroke=\"#000000\" points=\"1233.3916,-783.9387 1235.432,-773.5422 1227.3536,-780.3971 1233.3916,-783.9387\"/>\n</g>\n<!-- 55 -->\n<g id=\"node56\" class=\"node\">\n<title>55</title>\n<polygon fill=\"none\" stroke=\"#000000\" points=\"1188,-669.5 1084,-669.5 1084,-616.5 1188,-616.5 1188,-669.5\"/>\n<text text-anchor=\"middle\" x=\"1136\" y=\"-654.3\" font-family=\"Times,serif\" font-size=\"14.00\" fill=\"#000000\">mse = 33.309</text>\n<text text-anchor=\"middle\" x=\"1136\" y=\"-639.3\" font-family=\"Times,serif\" font-size=\"14.00\" fill=\"#000000\">samples = 3</text>\n<text text-anchor=\"middle\" x=\"1136\" y=\"-624.3\" font-family=\"Times,serif\" font-size=\"14.00\" fill=\"#000000\">value = 42.433</text>\n</g>\n<!-- 54&#45;&gt;55 -->\n<g id=\"edge55\" class=\"edge\">\n<title>54&#45;&gt;55</title>\n<path fill=\"none\" stroke=\"#000000\" d=\"M1136,-712.9465C1136,-702.2621 1136,-690.4254 1136,-679.5742\"/>\n<polygon fill=\"#000000\" stroke=\"#000000\" points=\"1139.5001,-679.5421 1136,-669.5422 1132.5001,-679.5422 1139.5001,-679.5421\"/>\n</g>\n<!-- 56 -->\n<g id=\"node57\" class=\"node\">\n<title>56</title>\n<polygon fill=\"none\" stroke=\"#000000\" points=\"1310,-677 1206,-677 1206,-609 1310,-609 1310,-677\"/>\n<text text-anchor=\"middle\" x=\"1258\" y=\"-661.8\" font-family=\"Times,serif\" font-size=\"14.00\" fill=\"#000000\">nox &lt;= 0.488</text>\n<text text-anchor=\"middle\" x=\"1258\" y=\"-646.8\" font-family=\"Times,serif\" font-size=\"14.00\" fill=\"#000000\">mse = 12.467</text>\n<text text-anchor=\"middle\" x=\"1258\" y=\"-631.8\" font-family=\"Times,serif\" font-size=\"14.00\" fill=\"#000000\">samples = 40</text>\n<text text-anchor=\"middle\" x=\"1258\" y=\"-616.8\" font-family=\"Times,serif\" font-size=\"14.00\" fill=\"#000000\">value = 32.668</text>\n</g>\n<!-- 54&#45;&gt;56 -->\n<g id=\"edge56\" class=\"edge\">\n<title>54&#45;&gt;56</title>\n<path fill=\"none\" stroke=\"#000000\" d=\"M1175.9474,-712.9465C1186.9012,-703.6088 1198.8873,-693.3911 1210.232,-683.7203\"/>\n<polygon fill=\"#000000\" stroke=\"#000000\" points=\"1212.6233,-686.2809 1217.9629,-677.13 1208.0821,-680.9538 1212.6233,-686.2809\"/>\n</g>\n<!-- 57 -->\n<g id=\"node58\" class=\"node\">\n<title>57</title>\n<polygon fill=\"none\" stroke=\"#000000\" points=\"1307,-565.5 1203,-565.5 1203,-512.5 1307,-512.5 1307,-565.5\"/>\n<text text-anchor=\"middle\" x=\"1255\" y=\"-550.3\" font-family=\"Times,serif\" font-size=\"14.00\" fill=\"#000000\">mse = 5.014</text>\n<text text-anchor=\"middle\" x=\"1255\" y=\"-535.3\" font-family=\"Times,serif\" font-size=\"14.00\" fill=\"#000000\">samples = 27</text>\n<text text-anchor=\"middle\" x=\"1255\" y=\"-520.3\" font-family=\"Times,serif\" font-size=\"14.00\" fill=\"#000000\">value = 34.156</text>\n</g>\n<!-- 56&#45;&gt;57 -->\n<g id=\"edge57\" class=\"edge\">\n<title>56&#45;&gt;57</title>\n<path fill=\"none\" stroke=\"#000000\" d=\"M1257.0177,-608.9465C1256.7095,-598.2621 1256.368,-586.4254 1256.055,-575.5742\"/>\n<polygon fill=\"#000000\" stroke=\"#000000\" points=\"1259.5526,-575.4371 1255.7656,-565.5422 1252.5555,-575.639 1259.5526,-575.4371\"/>\n</g>\n<!-- 58 -->\n<g id=\"node59\" class=\"node\">\n<title>58</title>\n<polygon fill=\"none\" stroke=\"#000000\" points=\"1429,-565.5 1325,-565.5 1325,-512.5 1429,-512.5 1429,-565.5\"/>\n<text text-anchor=\"middle\" x=\"1377\" y=\"-550.3\" font-family=\"Times,serif\" font-size=\"14.00\" fill=\"#000000\">mse = 13.796</text>\n<text text-anchor=\"middle\" x=\"1377\" y=\"-535.3\" font-family=\"Times,serif\" font-size=\"14.00\" fill=\"#000000\">samples = 13</text>\n<text text-anchor=\"middle\" x=\"1377\" y=\"-520.3\" font-family=\"Times,serif\" font-size=\"14.00\" fill=\"#000000\">value = 29.577</text>\n</g>\n<!-- 56&#45;&gt;58 -->\n<g id=\"edge58\" class=\"edge\">\n<title>56&#45;&gt;58</title>\n<path fill=\"none\" stroke=\"#000000\" d=\"M1296.9651,-608.9465C1310.4509,-597.1606 1325.5409,-583.9726 1338.9521,-572.2519\"/>\n<polygon fill=\"#000000\" stroke=\"#000000\" points=\"1341.4031,-574.7582 1346.6296,-565.5422 1336.7967,-569.4874 1341.4031,-574.7582\"/>\n</g>\n<!-- 61 -->\n<g id=\"node62\" class=\"node\">\n<title>61</title>\n<polygon fill=\"none\" stroke=\"#000000\" points=\"1418,-773.5 1314,-773.5 1314,-720.5 1418,-720.5 1418,-773.5\"/>\n<text text-anchor=\"middle\" x=\"1366\" y=\"-758.3\" font-family=\"Times,serif\" font-size=\"14.00\" fill=\"#000000\">mse = 15.228</text>\n<text text-anchor=\"middle\" x=\"1366\" y=\"-743.3\" font-family=\"Times,serif\" font-size=\"14.00\" fill=\"#000000\">samples = 27</text>\n<text text-anchor=\"middle\" x=\"1366\" y=\"-728.3\" font-family=\"Times,serif\" font-size=\"14.00\" fill=\"#000000\">value = 46.407</text>\n</g>\n<!-- 60&#45;&gt;61 -->\n<g id=\"edge61\" class=\"edge\">\n<title>60&#45;&gt;61</title>\n<path fill=\"none\" stroke=\"#000000\" d=\"M1366,-816.9465C1366,-806.2621 1366,-794.4254 1366,-783.5742\"/>\n<polygon fill=\"#000000\" stroke=\"#000000\" points=\"1369.5001,-783.5421 1366,-773.5422 1362.5001,-783.5422 1369.5001,-783.5421\"/>\n</g>\n<!-- 62 -->\n<g id=\"node63\" class=\"node\">\n<title>62</title>\n<polygon fill=\"none\" stroke=\"#000000\" points=\"1532,-773.5 1436,-773.5 1436,-720.5 1532,-720.5 1532,-773.5\"/>\n<text text-anchor=\"middle\" x=\"1484\" y=\"-758.3\" font-family=\"Times,serif\" font-size=\"14.00\" fill=\"#000000\">mse = 74.607</text>\n<text text-anchor=\"middle\" x=\"1484\" y=\"-743.3\" font-family=\"Times,serif\" font-size=\"14.00\" fill=\"#000000\">samples = 3</text>\n<text text-anchor=\"middle\" x=\"1484\" y=\"-728.3\" font-family=\"Times,serif\" font-size=\"14.00\" fill=\"#000000\">value = 33.3</text>\n</g>\n<!-- 60&#45;&gt;62 -->\n<g id=\"edge62\" class=\"edge\">\n<title>60&#45;&gt;62</title>\n<path fill=\"none\" stroke=\"#000000\" d=\"M1404.6376,-816.9465C1418.0101,-805.1606 1432.9734,-791.9726 1446.2719,-780.2519\"/>\n<polygon fill=\"#000000\" stroke=\"#000000\" points=\"1448.697,-782.7799 1453.8849,-773.5422 1444.0685,-777.5285 1448.697,-782.7799\"/>\n</g>\n</g>\n</svg>\n"
          },
          "metadata": {
            "tags": []
          },
          "execution_count": 88
        }
      ]
    },
    {
      "cell_type": "code",
      "metadata": {
        "id": "4xurA97wW62J"
      },
      "source": [
        "from sklearn.model_selection import KFold\n",
        "from sklearn.model_selection import cross_val_score"
      ],
      "execution_count": 89,
      "outputs": []
    },
    {
      "cell_type": "code",
      "metadata": {
        "colab": {
          "base_uri": "https://localhost:8080/"
        },
        "id": "CDipfORMav91",
        "outputId": "9b4c9fa4-22d8-4faf-8441-4f9aea1b534d"
      },
      "source": [
        "cv = KFold(n_splits=10,shuffle=True,random_state=0)\n",
        "#cv = 10\n",
        "scores = cross_val_score(regtree,X,Y,scoring=\"neg_mean_squared_error\",cv=cv,n_jobs=2)\n",
        "print(scores)\n",
        "score = np.mean(scores)\n",
        "print(score)"
      ],
      "execution_count": 90,
      "outputs": [
        {
          "output_type": "stream",
          "text": [
            "[-43.02836579 -13.81470429 -12.27500282  -8.98091734 -21.461522\n",
            " -10.00079345 -45.59622159 -18.33421022 -10.77735855  -9.40185161]\n",
            "-19.367094765255267\n"
          ],
          "name": "stdout"
        }
      ]
    },
    {
      "cell_type": "code",
      "metadata": {
        "colab": {
          "base_uri": "https://localhost:8080/"
        },
        "id": "eRs5KAfCW62J",
        "outputId": "28666a1e-3f99-46e6-9d51-b33c7ccf712b"
      },
      "source": [
        "list(zip(predictors,regtree.feature_importances_))"
      ],
      "execution_count": 91,
      "outputs": [
        {
          "output_type": "execute_result",
          "data": {
            "text/plain": [
              "[('crim', 0.05608790988040343),\n",
              " ('zn', 0.0),\n",
              " ('indus', 0.0),\n",
              " ('chas', 0.0),\n",
              " ('nox', 0.023986807838404532),\n",
              " ('rm', 0.6140565728974396),\n",
              " ('age', 0.003106013700749565),\n",
              " ('dis', 0.07276557587983831),\n",
              " ('rad', 0.0),\n",
              " ('tax', 0.011410684654157755),\n",
              " ('ptratio', 0.011867632868465781),\n",
              " ('black', 0.0),\n",
              " ('lstat', 0.206718802280541)]"
            ]
          },
          "metadata": {
            "tags": []
          },
          "execution_count": 91
        }
      ]
    },
    {
      "cell_type": "markdown",
      "metadata": {
        "id": "bX0AE5bvW62K"
      },
      "source": [
        "### Regression Random forest"
      ]
    },
    {
      "cell_type": "code",
      "metadata": {
        "collapsed": true,
        "id": "_09jc_vNW62K"
      },
      "source": [
        "from sklearn.ensemble import RandomForestRegressor"
      ],
      "execution_count": 92,
      "outputs": []
    },
    {
      "cell_type": "code",
      "metadata": {
        "colab": {
          "base_uri": "https://localhost:8080/"
        },
        "id": "U2BMWh89W62K",
        "outputId": "043dd672-e1ec-4930-afe0-1a3e1f01e40d"
      },
      "source": [
        "forest = RandomForestRegressor(n_jobs=2,oob_score=True,n_estimators=1000)\n",
        "forest"
      ],
      "execution_count": 93,
      "outputs": [
        {
          "output_type": "execute_result",
          "data": {
            "text/plain": [
              "RandomForestRegressor(bootstrap=True, ccp_alpha=0.0, criterion='mse',\n",
              "                      max_depth=None, max_features='auto', max_leaf_nodes=None,\n",
              "                      max_samples=None, min_impurity_decrease=0.0,\n",
              "                      min_impurity_split=None, min_samples_leaf=1,\n",
              "                      min_samples_split=2, min_weight_fraction_leaf=0.0,\n",
              "                      n_estimators=1000, n_jobs=2, oob_score=True,\n",
              "                      random_state=None, verbose=0, warm_start=False)"
            ]
          },
          "metadata": {
            "tags": []
          },
          "execution_count": 93
        }
      ]
    },
    {
      "cell_type": "code",
      "metadata": {
        "colab": {
          "base_uri": "https://localhost:8080/"
        },
        "id": "AFP1t8pgW62L",
        "outputId": "7057353b-94ae-45d0-f6eb-6b029ead2f83"
      },
      "source": [
        "forest.fit(X,Y)"
      ],
      "execution_count": 94,
      "outputs": [
        {
          "output_type": "execute_result",
          "data": {
            "text/plain": [
              "RandomForestRegressor(bootstrap=True, ccp_alpha=0.0, criterion='mse',\n",
              "                      max_depth=None, max_features='auto', max_leaf_nodes=None,\n",
              "                      max_samples=None, min_impurity_decrease=0.0,\n",
              "                      min_impurity_split=None, min_samples_leaf=1,\n",
              "                      min_samples_split=2, min_weight_fraction_leaf=0.0,\n",
              "                      n_estimators=1000, n_jobs=2, oob_score=True,\n",
              "                      random_state=None, verbose=0, warm_start=False)"
            ]
          },
          "metadata": {
            "tags": []
          },
          "execution_count": 94
        }
      ]
    },
    {
      "cell_type": "code",
      "metadata": {
        "colab": {
          "base_uri": "https://localhost:8080/",
          "height": 204
        },
        "id": "UmSX2M7tW62L",
        "outputId": "f7f013d0-80ec-4ef3-d87f-2b5c45902057"
      },
      "source": [
        "data[\"Random forest result\"]=forest.oob_prediction_\n",
        "data.head()"
      ],
      "execution_count": 95,
      "outputs": [
        {
          "output_type": "execute_result",
          "data": {
            "text/html": [
              "<div>\n",
              "<style scoped>\n",
              "    .dataframe tbody tr th:only-of-type {\n",
              "        vertical-align: middle;\n",
              "    }\n",
              "\n",
              "    .dataframe tbody tr th {\n",
              "        vertical-align: top;\n",
              "    }\n",
              "\n",
              "    .dataframe thead th {\n",
              "        text-align: right;\n",
              "    }\n",
              "</style>\n",
              "<table border=\"1\" class=\"dataframe\">\n",
              "  <thead>\n",
              "    <tr style=\"text-align: right;\">\n",
              "      <th></th>\n",
              "      <th>crim</th>\n",
              "      <th>zn</th>\n",
              "      <th>indus</th>\n",
              "      <th>chas</th>\n",
              "      <th>nox</th>\n",
              "      <th>rm</th>\n",
              "      <th>age</th>\n",
              "      <th>dis</th>\n",
              "      <th>rad</th>\n",
              "      <th>tax</th>\n",
              "      <th>ptratio</th>\n",
              "      <th>black</th>\n",
              "      <th>lstat</th>\n",
              "      <th>medv</th>\n",
              "      <th>preds</th>\n",
              "      <th>Random forest result</th>\n",
              "    </tr>\n",
              "  </thead>\n",
              "  <tbody>\n",
              "    <tr>\n",
              "      <th>0</th>\n",
              "      <td>0.00632</td>\n",
              "      <td>18.0</td>\n",
              "      <td>2.31</td>\n",
              "      <td>0</td>\n",
              "      <td>0.538</td>\n",
              "      <td>6.575</td>\n",
              "      <td>65.2</td>\n",
              "      <td>4.0900</td>\n",
              "      <td>1</td>\n",
              "      <td>296</td>\n",
              "      <td>15.3</td>\n",
              "      <td>396.90</td>\n",
              "      <td>4.98</td>\n",
              "      <td>24.0</td>\n",
              "      <td>23.466667</td>\n",
              "      <td>28.205650</td>\n",
              "    </tr>\n",
              "    <tr>\n",
              "      <th>1</th>\n",
              "      <td>0.02731</td>\n",
              "      <td>0.0</td>\n",
              "      <td>7.07</td>\n",
              "      <td>0</td>\n",
              "      <td>0.469</td>\n",
              "      <td>6.421</td>\n",
              "      <td>78.9</td>\n",
              "      <td>4.9671</td>\n",
              "      <td>2</td>\n",
              "      <td>242</td>\n",
              "      <td>17.8</td>\n",
              "      <td>396.90</td>\n",
              "      <td>9.14</td>\n",
              "      <td>21.6</td>\n",
              "      <td>22.920833</td>\n",
              "      <td>22.903325</td>\n",
              "    </tr>\n",
              "    <tr>\n",
              "      <th>2</th>\n",
              "      <td>0.02729</td>\n",
              "      <td>0.0</td>\n",
              "      <td>7.07</td>\n",
              "      <td>0</td>\n",
              "      <td>0.469</td>\n",
              "      <td>7.185</td>\n",
              "      <td>61.1</td>\n",
              "      <td>4.9671</td>\n",
              "      <td>2</td>\n",
              "      <td>242</td>\n",
              "      <td>17.8</td>\n",
              "      <td>392.83</td>\n",
              "      <td>4.03</td>\n",
              "      <td>34.7</td>\n",
              "      <td>34.155556</td>\n",
              "      <td>34.656831</td>\n",
              "    </tr>\n",
              "    <tr>\n",
              "      <th>3</th>\n",
              "      <td>0.03237</td>\n",
              "      <td>0.0</td>\n",
              "      <td>2.18</td>\n",
              "      <td>0</td>\n",
              "      <td>0.458</td>\n",
              "      <td>6.998</td>\n",
              "      <td>45.8</td>\n",
              "      <td>6.0622</td>\n",
              "      <td>3</td>\n",
              "      <td>222</td>\n",
              "      <td>18.7</td>\n",
              "      <td>394.63</td>\n",
              "      <td>2.94</td>\n",
              "      <td>33.4</td>\n",
              "      <td>34.155556</td>\n",
              "      <td>34.787500</td>\n",
              "    </tr>\n",
              "    <tr>\n",
              "      <th>4</th>\n",
              "      <td>0.06905</td>\n",
              "      <td>0.0</td>\n",
              "      <td>2.18</td>\n",
              "      <td>0</td>\n",
              "      <td>0.458</td>\n",
              "      <td>7.147</td>\n",
              "      <td>54.2</td>\n",
              "      <td>6.0622</td>\n",
              "      <td>3</td>\n",
              "      <td>222</td>\n",
              "      <td>18.7</td>\n",
              "      <td>396.90</td>\n",
              "      <td>5.33</td>\n",
              "      <td>36.2</td>\n",
              "      <td>34.155556</td>\n",
              "      <td>34.239118</td>\n",
              "    </tr>\n",
              "  </tbody>\n",
              "</table>\n",
              "</div>"
            ],
            "text/plain": [
              "      crim    zn  indus  chas  ...  lstat  medv      preds  Random forest result\n",
              "0  0.00632  18.0   2.31     0  ...   4.98  24.0  23.466667             28.205650\n",
              "1  0.02731   0.0   7.07     0  ...   9.14  21.6  22.920833             22.903325\n",
              "2  0.02729   0.0   7.07     0  ...   4.03  34.7  34.155556             34.656831\n",
              "3  0.03237   0.0   2.18     0  ...   2.94  33.4  34.155556             34.787500\n",
              "4  0.06905   0.0   2.18     0  ...   5.33  36.2  34.155556             34.239118\n",
              "\n",
              "[5 rows x 16 columns]"
            ]
          },
          "metadata": {
            "tags": []
          },
          "execution_count": 95
        }
      ]
    },
    {
      "cell_type": "code",
      "metadata": {
        "colab": {
          "base_uri": "https://localhost:8080/",
          "height": 419
        },
        "id": "UbUPV6U3W62L",
        "outputId": "223d1ee4-eb92-4bab-b00a-368eed2af0ab"
      },
      "source": [
        "data[['medv','Random forest result']]"
      ],
      "execution_count": 96,
      "outputs": [
        {
          "output_type": "execute_result",
          "data": {
            "text/html": [
              "<div>\n",
              "<style scoped>\n",
              "    .dataframe tbody tr th:only-of-type {\n",
              "        vertical-align: middle;\n",
              "    }\n",
              "\n",
              "    .dataframe tbody tr th {\n",
              "        vertical-align: top;\n",
              "    }\n",
              "\n",
              "    .dataframe thead th {\n",
              "        text-align: right;\n",
              "    }\n",
              "</style>\n",
              "<table border=\"1\" class=\"dataframe\">\n",
              "  <thead>\n",
              "    <tr style=\"text-align: right;\">\n",
              "      <th></th>\n",
              "      <th>medv</th>\n",
              "      <th>Random forest result</th>\n",
              "    </tr>\n",
              "  </thead>\n",
              "  <tbody>\n",
              "    <tr>\n",
              "      <th>0</th>\n",
              "      <td>24.0</td>\n",
              "      <td>28.205650</td>\n",
              "    </tr>\n",
              "    <tr>\n",
              "      <th>1</th>\n",
              "      <td>21.6</td>\n",
              "      <td>22.903325</td>\n",
              "    </tr>\n",
              "    <tr>\n",
              "      <th>2</th>\n",
              "      <td>34.7</td>\n",
              "      <td>34.656831</td>\n",
              "    </tr>\n",
              "    <tr>\n",
              "      <th>3</th>\n",
              "      <td>33.4</td>\n",
              "      <td>34.787500</td>\n",
              "    </tr>\n",
              "    <tr>\n",
              "      <th>4</th>\n",
              "      <td>36.2</td>\n",
              "      <td>34.239118</td>\n",
              "    </tr>\n",
              "    <tr>\n",
              "      <th>...</th>\n",
              "      <td>...</td>\n",
              "      <td>...</td>\n",
              "    </tr>\n",
              "    <tr>\n",
              "      <th>501</th>\n",
              "      <td>22.4</td>\n",
              "      <td>24.288857</td>\n",
              "    </tr>\n",
              "    <tr>\n",
              "      <th>502</th>\n",
              "      <td>20.6</td>\n",
              "      <td>19.481662</td>\n",
              "    </tr>\n",
              "    <tr>\n",
              "      <th>503</th>\n",
              "      <td>23.9</td>\n",
              "      <td>28.372145</td>\n",
              "    </tr>\n",
              "    <tr>\n",
              "      <th>504</th>\n",
              "      <td>22.0</td>\n",
              "      <td>26.345623</td>\n",
              "    </tr>\n",
              "    <tr>\n",
              "      <th>505</th>\n",
              "      <td>11.9</td>\n",
              "      <td>20.988252</td>\n",
              "    </tr>\n",
              "  </tbody>\n",
              "</table>\n",
              "<p>506 rows × 2 columns</p>\n",
              "</div>"
            ],
            "text/plain": [
              "     medv  Random forest result\n",
              "0    24.0             28.205650\n",
              "1    21.6             22.903325\n",
              "2    34.7             34.656831\n",
              "3    33.4             34.787500\n",
              "4    36.2             34.239118\n",
              "..    ...                   ...\n",
              "501  22.4             24.288857\n",
              "502  20.6             19.481662\n",
              "503  23.9             28.372145\n",
              "504  22.0             26.345623\n",
              "505  11.9             20.988252\n",
              "\n",
              "[506 rows x 2 columns]"
            ]
          },
          "metadata": {
            "tags": []
          },
          "execution_count": 96
        }
      ]
    },
    {
      "cell_type": "code",
      "metadata": {
        "colab": {
          "base_uri": "https://localhost:8080/",
          "height": 282
        },
        "id": "NFVhz-wIlLut",
        "outputId": "19b38161-fd8a-4bda-ccee-7af602761d30"
      },
      "source": [
        "data[['medv','Random forest result']].plot()"
      ],
      "execution_count": 97,
      "outputs": [
        {
          "output_type": "execute_result",
          "data": {
            "text/plain": [
              "<matplotlib.axes._subplots.AxesSubplot at 0x7f173816abd0>"
            ]
          },
          "metadata": {
            "tags": []
          },
          "execution_count": 97
        },
        {
          "output_type": "display_data",
          "data": {
            "image/png": "[encoded data removed]",
            "text/plain": [
              "<Figure size 432x288 with 1 Axes>"
            ]
          },
          "metadata": {
            "tags": [],
            "needs_background": "light"
          }
        }
      ]
    },
    {
      "cell_type": "markdown",
      "metadata": {
        "collapsed": true,
        "id": "kDeS75a0W62L"
      },
      "source": [
        "#### To evaluate performance of a random forest model, mean squared (MSE) error is calculated"
      ]
    },
    {
      "cell_type": "code",
      "metadata": {
        "colab": {
          "base_uri": "https://localhost:8080/",
          "height": 0
        },
        "id": "JkaaCuOGW62M",
        "outputId": "6fbdd903-9e7b-4cac-9467-fee0a7ef9f8d"
      },
      "source": [
        "data[\"error_random_forest\"]=(data[\"medv\"]-data[\"Random forest result\"])**2\n",
        "error_random_forest = sum(data[\"error_random_forest\"])/len(data)\n",
        "error_random_forest"
      ],
      "execution_count": 54,
      "outputs": [
        {
          "output_type": "execute_result",
          "data": {
            "text/plain": [
              "10.431902749715212"
            ]
          },
          "metadata": {
            "tags": []
          },
          "execution_count": 54
        }
      ]
    },
    {
      "cell_type": "markdown",
      "metadata": {
        "id": "upb_B9aAW62M"
      },
      "source": [
        "Error in random forest model is lower than error regression decision trees."
      ]
    },
    {
      "cell_type": "markdown",
      "metadata": {
        "id": "c4Cn1VZvW62M"
      },
      "source": [
        "#### R2 in random forest model"
      ]
    },
    {
      "cell_type": "code",
      "metadata": {
        "colab": {
          "base_uri": "https://localhost:8080/",
          "height": 0
        },
        "id": "8QT6WMVBW62M",
        "outputId": "12dab115-8c73-4d0b-e27b-24831bfe0697"
      },
      "source": [
        "forest.oob_score_"
      ],
      "execution_count": 56,
      "outputs": [
        {
          "output_type": "execute_result",
          "data": {
            "text/plain": [
              "0.8764278891680323"
            ]
          },
          "metadata": {
            "tags": []
          },
          "execution_count": 56
        }
      ]
    }
  ]
}